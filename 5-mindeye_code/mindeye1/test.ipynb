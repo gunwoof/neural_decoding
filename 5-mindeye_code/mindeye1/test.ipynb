{
 "cells": [
  {
   "cell_type": "code",
   "execution_count": 1,
   "metadata": {},
   "outputs": [
    {
     "name": "stdout",
     "output_type": "stream",
     "text": [
      "Looking in indexes: https://pypi.org/simple, https://pypi.ngc.nvidia.com\n",
      "Requirement already satisfied: nibabel in /usr/local/lib/python3.10/dist-packages (5.2.1)\n",
      "Requirement already satisfied: numpy>=1.20 in /usr/local/lib/python3.10/dist-packages (from nibabel) (1.26.4)\n",
      "Requirement already satisfied: packaging>=17 in /usr/local/lib/python3.10/dist-packages (from nibabel) (24.2)\n",
      "\u001b[33mWARNING: Running pip as the 'root' user can result in broken permissions and conflicting behaviour with the system package manager. It is recommended to use a virtual environment instead: https://pip.pypa.io/warnings/venv\u001b[0m\u001b[33m\n",
      "\u001b[0m\n",
      "\u001b[1m[\u001b[0m\u001b[34;49mnotice\u001b[0m\u001b[1;39;49m]\u001b[0m\u001b[39;49m A new release of pip is available: \u001b[0m\u001b[31;49m23.1.2\u001b[0m\u001b[39;49m -> \u001b[0m\u001b[32;49m25.0.1\u001b[0m\n",
      "\u001b[1m[\u001b[0m\u001b[34;49mnotice\u001b[0m\u001b[1;39;49m]\u001b[0m\u001b[39;49m To update, run: \u001b[0m\u001b[32;49mpython -m pip install --upgrade pip\u001b[0m\n"
     ]
    }
   ],
   "source": [
    "!pip install nibabel"
   ]
  },
  {
   "cell_type": "code",
   "execution_count": 1,
   "metadata": {},
   "outputs": [
    {
     "name": "stdout",
     "output_type": "stream",
     "text": [
      "fMRI shape: torch.Size([4, 81, 104, 83])\n",
      "Image shape: torch.Size([4, 3, 224, 224])\n"
     ]
    }
   ],
   "source": [
    "%load_ext autoreload\n",
    "%autoreload 2\n",
    "from data import get_loader\n",
    "from args import parse_args\n",
    "\n",
    "args = parse_args()\n",
    "train_loader, _ = get_loader()\n",
    "\n",
    "# 데이터 확인\n",
    "for fmri, image in train_loader:\n",
    "    print(f\"fMRI shape: {fmri.shape}\")\n",
    "    print(f\"Image shape: {image.shape}\")\n",
    "    break"
   ]
  },
  {
   "cell_type": "code",
   "execution_count": null,
   "metadata": {},
   "outputs": [],
   "source": [
    "from data import stack_sub1_dataset  # 경로에 따라 조정\n",
    "\n",
    "train_dataset, test_dataset = stack_sub1_dataset()\n",
    "n_train = len(train_dataset)\n",
    "n_test = len(test_dataset)\n",
    "\n",
    "print(f\"Train: {n_train}, Test: {n_test}\")"
   ]
  },
  {
   "cell_type": "code",
   "execution_count": null,
   "metadata": {},
   "outputs": [
    {
     "name": "stdout",
     "output_type": "stream",
     "text": [
      "볼륨의 shape: (120, 120, 84, 70)\n"
     ]
    }
   ],
   "source": [
    "import nibabel as nib\n",
    "\n",
    "# 파일 경로\n",
    "nii_path = \"/nas/research/03-Neural_decoding/3-bids/derivatives/raw_beta/sub-01/ses-01/func/sub-01_ses-01_task-image_run-01_desc-beta.nii.gz\"\n",
    "\n",
    "# NIfTI 파일 로드\n",
    "img = nib.load(nii_path)\n",
    "\n",
    "# 볼륨 데이터 가져오기\n",
    "data = img.get_fdata()\n",
    "\n",
    "# 볼륨 shape 출력\n",
    "print(\"볼륨의 shape:\", data.shape)\n"
   ]
  }
 ],
 "metadata": {
  "kernelspec": {
   "display_name": "Python 3",
   "language": "python",
   "name": "python3"
  },
  "language_info": {
   "codemirror_mode": {
    "name": "ipython",
    "version": 3
   },
   "file_extension": ".py",
   "mimetype": "text/x-python",
   "name": "python",
   "nbconvert_exporter": "python",
   "pygments_lexer": "ipython3",
   "version": "3.10.6"
  }
 },
 "nbformat": 4,
 "nbformat_minor": 2
}
