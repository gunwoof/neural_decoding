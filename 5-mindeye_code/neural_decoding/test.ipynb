{
 "cells": [
  {
   "cell_type": "code",
   "execution_count": null,
   "metadata": {},
   "outputs": [],
   "source": [
    "!pip install nibabel"
   ]
  },
  {
   "cell_type": "code",
   "execution_count": null,
   "metadata": {},
   "outputs": [],
   "source": [
    "%load_ext autoreload\n",
    "%autoreload 2\n",
    "from data import get_dataloader\n",
    "from args import parse_args\n",
    "\n",
    "args = parse_args()\n",
    "train_loader= get_dataloader(args)\n",
    "print(train_loader)\n",
    "# 데이터 확인\n",
    "for fmri, image in train_loader:\n",
    "    print(f\"fMRI shape: {fmri.shape}\")\n",
    "    print(f\"Image shape: {image.shape}\")\n",
    "    break"
   ]
  },
  {
   "cell_type": "code",
   "execution_count": null,
   "metadata": {},
   "outputs": [],
   "source": [
    "# 자동 재로드\n",
    "%load_ext autoreload\n",
    "%autoreload 2\n",
    "\n",
    "# 모듈 불러오기\n",
    "from data import get_dataloader\n",
    "from args import parse_args\n",
    "import torch\n",
    "from itertools import islice\n",
    "\n",
    "# args 설정 및 dataloader 생성\n",
    "args = parse_args()\n",
    "train_loader = get_dataloader(args)\n",
    "\n",
    "# 마지막 iteration만 가져오기 (shuffle=False 전제)\n",
    "last_batch = list(islice(train_loader, len(train_loader) - 1, None))[0]\n",
    "fmri, image = last_batch\n",
    "\n",
    "# 정보 출력\n",
    "print(f\"✅ Last Batch Loaded\")\n",
    "print(f\"fMRI shape: {fmri.shape}\")\n",
    "print(f\"Image shape: {image.shape}\")\n",
    "print(f\"fMRI NaNs: {torch.isnan(fmri).sum()}, Infs: {(fmri == float('inf')).sum()}\")\n",
    "print(f\"fMRI max: {fmri.max()}, min: {fmri.min()}\")\n",
    "print(f\"Image NaNs: {torch.isnan(image).sum()}, max: {image.max()}, min: {image.min()}\")\n"
   ]
  },
  {
   "cell_type": "code",
   "execution_count": 1,
   "metadata": {},
   "outputs": [
    {
     "name": "stderr",
     "output_type": "stream",
     "text": [
      "/usr/local/lib/python3.10/dist-packages/tqdm/auto.py:21: TqdmWarning: IProgress not found. Please update jupyter and ipywidgets. See https://ipywidgets.readthedocs.io/en/stable/user_install.html\n",
      "  from .autonotebook import tqdm as notebook_tqdm\n"
     ]
    },
    {
     "name": "stdout",
     "output_type": "stream",
     "text": [
      "✅ First fMRI sample loaded\n",
      "Shape: torch.Size([15724])\n",
      "NaNs: 0, Infs: 0\n",
      "Max: 4.931, Min: -4.090, Mean: 0.545\n"
     ]
    },
    {
     "data": {
      "image/png": "[encoded data removed]",
      "text/plain": [
       "<Figure size 640x480 with 1 Axes>"
      ]
     },
     "metadata": {},
     "output_type": "display_data"
    }
   ],
   "source": [
    "# args 정의\n",
    "from args import parse_args\n",
    "from data import get_dataloader\n",
    "\n",
    "import torch\n",
    "import matplotlib.pyplot as plt\n",
    "\n",
    "# args 세팅\n",
    "args = parse_args()\n",
    "args.train = 1  # 혹시 train/test 플래그 필요하다면\n",
    "args.shuffle = False  # 마지막 배치 추출을 위해 필수\n",
    "\n",
    "# dataloader 불러오기\n",
    "train_loader = get_dataloader(args)\n",
    "\n",
    "# 첫 번째 배치 가져오기 (30, N_voxel)\n",
    "fmri_batch, image_batch = next(iter(train_loader))\n",
    "\n",
    "# 첫 번째 샘플 선택\n",
    "fmri_sample = fmri_batch[25]  # shape: (N_voxel,)\n",
    "image_sample = image_batch[25]  # shape: (3, 425, 425)\n",
    "\n",
    "# 정보 출력\n",
    "print(f\"✅ First fMRI sample loaded\")\n",
    "print(f\"Shape: {fmri_sample.shape}\")\n",
    "print(f\"NaNs: {torch.isnan(fmri_sample).sum()}, Infs: {(fmri_sample == float('inf')).sum()}\")\n",
    "print(f\"Max: {fmri_sample.max():.3f}, Min: {fmri_sample.min():.3f}, Mean: {fmri_sample.mean():.3f}\")\n",
    "\n",
    "# 히스토그램으로 값 분포 시각화\n",
    "plt.hist(fmri_sample.cpu().numpy(), bins=100)\n",
    "plt.title(\"Masked fMRI Voxel Value Distribution\")\n",
    "plt.xlabel(\"Voxel Value\")\n",
    "plt.ylabel(\"Count\")\n",
    "plt.grid(True)\n",
    "plt.show()\n"
   ]
  },
  {
   "cell_type": "code",
   "execution_count": null,
   "metadata": {},
   "outputs": [],
   "source": [
    "import nibabel as nib\n",
    "import numpy as np\n",
    "\n",
    "zscore_path = '/nas/research/03-Neural_decoding/3-bids/derivatives/b4_roi_zscore/sub-01/ses-01/func/sub-01_ses-01_desc-betaroizscore.nii.gz'\n",
    "z_img = nib.load(zscore_path)\n",
    "z_data = z_img.get_fdata()\n",
    "\n",
    "print(\"Z-score 확인\")\n",
    "print(\"Mean:\", z_data.mean())\n",
    "print(\"Std:\", z_data.std())\n",
    "print(\"Max:\", z_data.max())\n",
    "print(\"Min:\", z_data.min())"
   ]
  },
  {
   "cell_type": "code",
   "execution_count": null,
   "metadata": {},
   "outputs": [],
   "source": [
    "import nibabel as nib\n",
    "import numpy as np\n",
    "\n",
    "zscore_path = '/nas/research/03-Neural_decoding/3-bids/derivatives/b4_roi/sub-01/betas_session01.nii.gz'\n",
    "z_img = nib.load(zscore_path)\n",
    "z_data = z_img.get_fdata()\n",
    "\n",
    "print(\"Z-score 확인\")\n",
    "print(\"Mean:\", z_data.mean())\n",
    "print(\"Std:\", z_data.std())\n",
    "print(\"Max:\", z_data.max())\n",
    "print(\"Min:\", z_data.min())"
   ]
  },
  {
   "cell_type": "code",
   "execution_count": null,
   "metadata": {},
   "outputs": [],
   "source": [
    "from data import get_dataloader, sub1_train_dataset, sub1_test_dataset\n",
    "from args import parse_args\n",
    "\n",
    "args = parse_args()\n",
    "\n",
    "train_dataset = sub1_train_dataset(args)\n",
    "test_dataset = sub1_test_dataset(args)\n",
    "\n",
    "print(f\"Train dataset size: {len(train_dataset)}\")\n",
    "print(f\"Test dataset size: {len(test_dataset)}\")"
   ]
  }
 ],
 "metadata": {
  "kernelspec": {
   "display_name": "Python 3",
   "language": "python",
   "name": "python3"
  },
  "language_info": {
   "codemirror_mode": {
    "name": "ipython",
    "version": 3
   },
   "file_extension": ".py",
   "mimetype": "text/x-python",
   "name": "python",
   "nbconvert_exporter": "python",
   "pygments_lexer": "ipython3",
   "version": "3.10.6"
  }
 },
 "nbformat": 4,
 "nbformat_minor": 2
}
