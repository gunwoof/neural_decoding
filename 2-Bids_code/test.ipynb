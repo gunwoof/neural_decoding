{
 "cells": [
  {
   "cell_type": "code",
   "execution_count": 2,
   "metadata": {},
   "outputs": [
    {
     "name": "stdout",
     "output_type": "stream",
     "text": [
      "(81, 104, 83)\n",
      "<class 'nibabel.nifti1.Nifti1Header'> object, endian='<'\n",
      "sizeof_hdr      : 348\n",
      "data_type       : b''\n",
      "db_name         : b''\n",
      "extents         : 0\n",
      "session_error   : 0\n",
      "regular         : b'r'\n",
      "dim_info        : 0\n",
      "dim             : [  3  81 104  83   1   1   1   1]\n",
      "intent_p1       : 0.0\n",
      "intent_p2       : 0.0\n",
      "intent_p3       : 0.0\n",
      "intent_code     : none\n",
      "datatype        : int16\n",
      "bitpix          : 16\n",
      "slice_start     : 0\n",
      "pixdim          : [1.  1.8 1.8 1.8 1.  1.  1.  1. ]\n",
      "vox_offset      : 0.0\n",
      "scl_slope       : nan\n",
      "scl_inter       : nan\n",
      "slice_end       : 0\n",
      "slice_code      : unknown\n",
      "xyzt_units      : 0\n",
      "cal_max         : 0.0\n",
      "cal_min         : 0.0\n",
      "slice_duration  : 0.0\n",
      "toffset         : 0.0\n",
      "glmax           : 1\n",
      "glmin           : 0\n",
      "descrip         : b''\n",
      "aux_file        : b'none'\n",
      "qform_code      : unknown\n",
      "sform_code      : scanner\n",
      "quatern_b       : 0.0\n",
      "quatern_c       : 0.0\n",
      "quatern_d       : 0.0\n",
      "qoffset_x       : 0.0\n",
      "qoffset_y       : 0.0\n",
      "qoffset_z       : 0.0\n",
      "srow_x          : [  1.8   0.    0.  -72. ]\n",
      "srow_y          : [  0.    1.8   0.  -92.7]\n",
      "srow_z          : [  0.    0.    1.8 -73.8]\n",
      "intent_name     : b''\n",
      "magic           : b'n+1'\n"
     ]
    }
   ],
   "source": [
    "# .nii 파일 shape, metadata 확인\n",
    "\n",
    "import nibabel as nib\n",
    "import numpy as np\n",
    "\n",
    "file_path = '/nas/research/03-Neural_decoding/3-bids/derivatives/raw_prep_vol/sub-01/brainmask.nii.gz'\n",
    "img = nib.load(file_path)\n",
    "data = img.get_fdata()\n",
    "\n",
    "print(data.shape)\n",
    "\n",
    "header = img.header\n",
    "print(header)"
   ]
  },
  {
   "cell_type": "code",
   "execution_count": 43,
   "metadata": {},
   "outputs": [
    {
     "name": "stdout",
     "output_type": "stream",
     "text": [
      "배열의 shape: (982, 15724)\n",
      "[[ 0.4685  -0.3406  -0.107   ... -0.1604   0.5244   0.1628 ]\n",
      " [-0.4307  -0.1251  -0.1589  ...  0.8584  -0.05576 -0.3054 ]\n",
      " [ 0.6665   0.6816   0.2654  ...  0.561    0.675    0.4456 ]\n",
      " ...\n",
      " [-0.2766  -0.08405  0.892   ... -0.2181  -0.896   -0.644  ]\n",
      " [-0.2634  -1.029    0.0542  ...  0.1042  -0.588   -0.3652 ]\n",
      " [-0.8687  -1.439   -0.6455  ... -0.5825  -0.8076  -0.5776 ]]\n"
     ]
    }
   ],
   "source": [
    "#.npy 파일 shape 확인\n",
    "\n",
    "import numpy as np\n",
    "\n",
    "file_path = '/nas/research/03-Neural_decoding/3-bids/derivatives/beta_huggingface/nsdgeneral_test.npy'\n",
    "data = np.load(file_path)\n",
    "print(f\"배열의 shape: {data.shape}\")\n",
    "print(data)\n"
   ]
  },
  {
   "cell_type": "code",
   "execution_count": null,
   "metadata": {},
   "outputs": [],
   "source": [
    "import nibabel as nib\n",
    "import numpy as np\n",
    "\n",
    "# 파일 경로\n",
    "beta_path = '/nas/research/03-Neural_decoding/3-bids/derivatives/normalize/sub-01/betas_session03.nii.gz'\n",
    "\n",
    "# 데이터 로드\n",
    "beta_img = nib.load(beta_path)\n",
    "beta_data = beta_img.get_fdata()  # shape: (x, y, z, t)\n",
    "\n",
    "# t=1 (두 번째 timepoint)의 3D 볼륨\n",
    "volume_t1 = beta_data[..., 1]  # shape: (x, y, z)\n",
    "\n",
    "# 값이 0이 아닌 (x, y, z) 좌표의 개수 세기\n",
    "non_zero_voxel_count = np.count_nonzero(volume_t1)\n",
    "\n",
    "print(f\"✅ t=1에서 intensity가 0이 아닌 복셀 수: {non_zero_voxel_count}\")\n"
   ]
  },
  {
   "cell_type": "code",
   "execution_count": 3,
   "metadata": {},
   "outputs": [],
   "source": [
    "# beta파일 bids 형식으로 만들기\n",
    "import os\n",
    "import re\n",
    "import shutil\n",
    "\n",
    "# 원본 루트 폴더\n",
    "root_dir = \"/nas/research/03-Neural_decoding/3-bids/derivatives/b4_roi\"\n",
    "# 새로운 저장 루트 (BIDS 형식으로 저장할 곳)\n",
    "output_dir = \"/nas/research/03-Neural_decoding/3-bids/derivatives/b4_roi2\"\n",
    "\n",
    "os.makedirs(output_dir, exist_ok=True)\n",
    "\n",
    "for subject_folder in os.listdir(root_dir):\n",
    "    subject_path = os.path.join(root_dir, subject_folder)\n",
    "    if os.path.isdir(subject_path) and subject_folder.startswith(\"sub-\"):\n",
    "        subject_id = subject_folder.split(\"-\")[1]\n",
    "\n",
    "        for filename in os.listdir(subject_path):\n",
    "            if filename.startswith(\"betas_session\") and filename.endswith(\".nii.gz\"):\n",
    "                session_match = re.search(r'session(\\d+)', filename)\n",
    "                if session_match:\n",
    "                    session_num = session_match.group(1).zfill(2)\n",
    "                    desc = \"betaroi\"  # 파일 이름\n",
    "                    new_filename = f\"sub-{subject_id}_ses-{session_num}_desc-{desc}.nii.gz\"\n",
    "\n",
    "                    bids_sub_dir = os.path.join(output_dir, f\"sub-{subject_id}\", f\"ses-{session_num}\", \"func\")\n",
    "                    os.makedirs(bids_sub_dir, exist_ok=True)\n",
    "\n",
    "                    src_file = os.path.join(subject_path, filename)\n",
    "                    dst_file = os.path.join(bids_sub_dir, new_filename)\n",
    "                    shutil.copy2(src_file, dst_file)"
   ]
  },
  {
   "cell_type": "code",
   "execution_count": 14,
   "metadata": {},
   "outputs": [
    {
     "name": "stdout",
     "output_type": "stream",
     "text": [
      "[Voxel-wise] 마스크 영역 평균들의 평균: 0.0000\n",
      "[Voxel-wise] 마스크 영역 표준편차들의 평균: 1.0000\n"
     ]
    }
   ],
   "source": [
    "import nibabel as nib\n",
    "import numpy as np\n",
    "\n",
    "# z-score 정규화된 fMRI 파일\n",
    "zscore_file = '/nas/research/03-Neural_decoding/3-bids/derivatives/new_b4_roi_zscore/sub-01/ses-01/func/sub-01_ses-01_desc-betaroizscore.nii.gz'\n",
    "# 마스크 파일\n",
    "mask_file = '/nas/research/03-Neural_decoding/3-bids/derivatives/b4_roi_zscore/sub-01/sub-01_nsdgeneral.nii.gz'\n",
    "\n",
    "# 데이터 로딩\n",
    "zdata = nib.load(zscore_file).get_fdata()  # shape: (X, Y, Z, T)\n",
    "mask = nib.load(mask_file).get_fdata() > 0  # shape: (X, Y, Z), boolean\n",
    "\n",
    "# 시간축 기준 voxel-wise 평균/표준편차 계산 → shape: (X, Y, Z)\n",
    "voxel_means = np.mean(zdata, axis=-1)\n",
    "voxel_stds = np.std(zdata, axis=-1)\n",
    "\n",
    "# 마스크 영역만 골라서 평균 계산\n",
    "mean_of_means = np.mean(voxel_means[mask])\n",
    "mean_of_stds = np.mean(voxel_stds[mask])\n",
    "\n",
    "print(f\"[Voxel-wise] 마스크 영역 평균들의 평균: {mean_of_means:.4f}\")\n",
    "print(f\"[Voxel-wise] 마스크 영역 표준편차들의 평균: {mean_of_stds:.4f}\")\n",
    "\n",
    "\n"
   ]
  },
  {
   "cell_type": "code",
   "execution_count": null,
   "metadata": {},
   "outputs": [],
   "source": [
    "#h5py 파일 압축 풀기\n",
    "\n",
    "import h5py\n",
    "import os\n",
    "import numpy as np\n",
    "\n",
    "def hdf5_to_folder(hdf5_path, output_dir):\n",
    "    def recursively_save(h5_obj, current_path):\n",
    "        for key in h5_obj:\n",
    "            item = h5_obj[key]\n",
    "            item_path = os.path.join(current_path, key)\n",
    "            if isinstance(item, h5py.Dataset):\n",
    "                # npy로 저장\n",
    "                np.save(item_path + '.npy', item[()])\n",
    "            elif isinstance(item, h5py.Group):\n",
    "                os.makedirs(item_path, exist_ok=True)\n",
    "                recursively_save(item, item_path)\n",
    "\n",
    "    with h5py.File(hdf5_path, 'r') as f:\n",
    "        os.makedirs(output_dir, exist_ok=True)\n",
    "        recursively_save(f, output_dir)\n",
    "\n",
    "# 사용 예\n",
    "hdf5_to_folder(\n",
    "    hdf5_path='/nas/research/03-Neural_decoding/3-bids/subj01_whole_brain.hdf5',\n",
    "    output_dir='/nas/research/03-Neural_decoding/3-bids/subj01_whole_brain_extracted'\n",
    ")"
   ]
  },
  {
   "cell_type": "code",
   "execution_count": 49,
   "metadata": {},
   "outputs": [
    {
     "name": "stdout",
     "output_type": "stream",
     "text": [
      "[2516]\n"
     ]
    }
   ],
   "source": [
    "import numpy as np\n",
    "\n",
    "voxels = np.load('/nas/research/03-Neural_decoding/3-bids/train_subj01_0/sample000000300.coco73k.npy')\n",
    "print(voxels)\n",
    "\n",
    "\n",
    "#images = np.load('/nas/research/03-Neural_decoding/3-bids/subj01_nsdgeneral_extracted/images.npy')\n",
    "#print(images.shape)"
   ]
  },
  {
   "cell_type": "code",
   "execution_count": 2,
   "metadata": {},
   "outputs": [
    {
     "name": "stdout",
     "output_type": "stream",
     "text": [
      "Shape: (15724,)\n",
      "Min: -3.752\n",
      "Max: 3.53\n",
      "Mean: -0.2416\n",
      "Std: 0.8574\n",
      "Median: -0.254\n"
     ]
    },
    {
     "data": {
      "image/png": "[encoded data removed]",
      "text/plain": [
       "<Figure size 640x480 with 1 Axes>"
      ]
     },
     "metadata": {},
     "output_type": "display_data"
    }
   ],
   "source": [
    "import numpy as np\n",
    "\n",
    "gen_sample = np.load('/nas/research/03-Neural_decoding/3-bids/train_subj01_0/sample000000300.nsdgeneral.npy')[1]\n",
    "# gen_sample = np.load('/nas/research/03-Neural_decoding/3-bids/derivatives/b4_roi_new_zscore/sub-01/ses-21/func/sub-01_ses-21_desc-betaroizscore.npy')[329]\n",
    "\n",
    "print(\"Shape:\", gen_sample.shape)\n",
    "print(\"Min:\", np.min(gen_sample))\n",
    "print(\"Max:\", np.max(gen_sample))\n",
    "print(\"Mean:\", np.mean(gen_sample))\n",
    "print(\"Std:\", np.std(gen_sample))\n",
    "print(\"Median:\", np.median(gen_sample))\n",
    "import matplotlib.pyplot as plt\n",
    "\n",
    "plt.hist(gen_sample.flatten(), bins=100, color='steelblue', edgecolor='black')\n",
    "plt.title(\"Value Distribution of gen_sample\")\n",
    "plt.xlabel(\"Value\")\n",
    "plt.ylabel(\"Frequency\")\n",
    "plt.grid(True)\n",
    "plt.show()\n",
    "\n"
   ]
  },
  {
   "cell_type": "code",
   "execution_count": null,
   "metadata": {},
   "outputs": [
    {
     "ename": "ValueError",
     "evalue": "Cannot load file containing pickled data when allow_pickle=False",
     "output_type": "error",
     "traceback": [
      "\u001b[31m---------------------------------------------------------------------------\u001b[39m",
      "\u001b[31mValueError\u001b[39m                                Traceback (most recent call last)",
      "\u001b[36mCell\u001b[39m\u001b[36m \u001b[39m\u001b[32mIn[4]\u001b[39m\u001b[32m, line 5\u001b[39m\n\u001b[32m      1\u001b[39m \u001b[38;5;28;01mimport\u001b[39;00m\u001b[38;5;250m \u001b[39m\u001b[34;01mnumpy\u001b[39;00m\u001b[38;5;250m \u001b[39m\u001b[38;5;28;01mas\u001b[39;00m\u001b[38;5;250m \u001b[39m\u001b[34;01mnp\u001b[39;00m\n\u001b[32m      3\u001b[39m \u001b[38;5;66;03m# gen_sample = np.load('/nas/research/03-Neural_decoding/3-bids/train_subj01_0/sample000000300.nsdgeneral.npy')[1]\u001b[39;00m\n\u001b[32m      4\u001b[39m \u001b[38;5;66;03m# gen_sample = np.load('/nas/research/03-Neural_decoding/3-bids/derivatives/b4_roi_new_zscore/sub-01/ses-21/func/sub-01_ses-21_desc-betaroizscore.npy')[329]\u001b[39;00m\n\u001b[32m----> \u001b[39m\u001b[32m5\u001b[39m gen_sample = \u001b[43mnp\u001b[49m\u001b[43m.\u001b[49m\u001b[43mload\u001b[49m\u001b[43m(\u001b[49m\u001b[33;43m'\u001b[39;49m\u001b[33;43m/nas/research/03-Neural_decoding/3-bids/derivatives/b4_roi/sub-01/betas_session01.nii.gz\u001b[39;49m\u001b[33;43m'\u001b[39;49m\u001b[43m)\u001b[49m[\u001b[32m329\u001b[39m]\n\u001b[32m      7\u001b[39m \u001b[38;5;28mprint\u001b[39m(\u001b[33m\"\u001b[39m\u001b[33mShape:\u001b[39m\u001b[33m\"\u001b[39m, gen_sample.shape)\n\u001b[32m      8\u001b[39m \u001b[38;5;28mprint\u001b[39m(\u001b[33m\"\u001b[39m\u001b[33mMin:\u001b[39m\u001b[33m\"\u001b[39m, np.min(gen_sample))\n",
      "\u001b[36mFile \u001b[39m\u001b[32m~/fsl/lib/python3.12/site-packages/numpy/lib/npyio.py:462\u001b[39m, in \u001b[36mload\u001b[39m\u001b[34m(file, mmap_mode, allow_pickle, fix_imports, encoding, max_header_size)\u001b[39m\n\u001b[32m    459\u001b[39m \u001b[38;5;28;01melse\u001b[39;00m:\n\u001b[32m    460\u001b[39m     \u001b[38;5;66;03m# Try a pickle\u001b[39;00m\n\u001b[32m    461\u001b[39m     \u001b[38;5;28;01mif\u001b[39;00m \u001b[38;5;129;01mnot\u001b[39;00m allow_pickle:\n\u001b[32m--> \u001b[39m\u001b[32m462\u001b[39m         \u001b[38;5;28;01mraise\u001b[39;00m \u001b[38;5;167;01mValueError\u001b[39;00m(\u001b[33m\"\u001b[39m\u001b[33mCannot load file containing pickled data \u001b[39m\u001b[33m\"\u001b[39m\n\u001b[32m    463\u001b[39m                          \u001b[33m\"\u001b[39m\u001b[33mwhen allow_pickle=False\u001b[39m\u001b[33m\"\u001b[39m)\n\u001b[32m    464\u001b[39m     \u001b[38;5;28;01mtry\u001b[39;00m:\n\u001b[32m    465\u001b[39m         \u001b[38;5;28;01mreturn\u001b[39;00m pickle.load(fid, **pickle_kwargs)\n",
      "\u001b[31mValueError\u001b[39m: Cannot load file containing pickled data when allow_pickle=False"
     ]
    }
   ],
   "source": [
    "import numpy as np\n",
    "\n",
    "# gen_sample = np.load('/nas/research/03-Neural_decoding/3-bids/train_subj01_0/sample000000300.nsdgeneral.npy')[1]\n",
    "gen_sample = np.load('/nas/research/03-Neural_decoding/3-bids/derivatives/b4_roi_new_zscore/sub-01/ses-21/func/sub-01_ses-21_desc-betaroizscore.npy')[329]\n",
    "# gen_sample = np.load('/nas/research/03-Neural_decoding/3-bids/derivatives/b4_roi/sub-01/betas_session01.nii.gz')[329]\n",
    "\n",
    "print(\"Shape:\", gen_sample.shape)\n",
    "print(\"Min:\", np.min(gen_sample))\n",
    "print(\"Max:\", np.max(gen_sample))\n",
    "print(\"Mean:\", np.mean(gen_sample))\n",
    "print(\"Std:\", np.std(gen_sample))\n",
    "print(\"Median:\", np.median(gen_sample))\n",
    "import matplotlib.pyplot as plt\n",
    "\n",
    "plt.hist(gen_sample.flatten(), bins=100, color='steelblue', edgecolor='black')\n",
    "plt.title(\"Value Distribution of gen_sample\")\n",
    "plt.xlabel(\"Value\")\n",
    "plt.ylabel(\"Frequency\")\n",
    "plt.grid(True)\n",
    "plt.show()\n"
   ]
  },
  {
   "cell_type": "code",
   "execution_count": null,
   "metadata": {},
   "outputs": [
    {
     "name": "stdout",
     "output_type": "stream",
     "text": [
      "Shape: (107104,)\n",
      "Min: -11282.0\n",
      "Max: 11132.0\n",
      "Mean: 19.869724753510607\n",
      "Std: 544.1011689422014\n",
      "Median: 10.0\n"
     ]
    },
    {
     "data": {
      "image/png": "[encoded data removed]",
      "text/plain": [
       "<Figure size 640x480 with 1 Axes>"
      ]
     },
     "metadata": {},
     "output_type": "display_data"
    }
   ],
   "source": [
    "import nibabel as nib\n",
    "import numpy as np\n",
    "import matplotlib.pyplot as plt\n",
    "\n",
    "# 데이터 로드\n",
    "gen_img = nib.load('/nas/research/03-Neural_decoding/3-bids/derivatives/b4_roi/sub-01/betas_session01.nii.gz')\n",
    "gen_data = gen_img.get_fdata()\n",
    "gen_sample = gen_data[..., 329]  # 4D의 329번째 볼륨\n",
    "\n",
    "# 마스크 로드\n",
    "mask_img = nib.load('/nas/research/03-Neural_decoding/3-bids/derivatives/b4_roi_zscore/sub-01/sub-01_nsdgeneral.nii.gz')\n",
    "mask_data = mask_img.get_fdata()\n",
    "\n",
    "# 마스크 적용: mask가 -1이 아닌 위치만 선택\n",
    "masked_values = gen_sample[mask_data == 1]\n",
    "\n",
    "# 통계 출력\n",
    "print(\"Shape:\", masked_values.shape)\n",
    "print(\"Min:\", np.min(masked_values))\n",
    "print(\"Max:\", np.max(masked_values))\n",
    "print(\"Mean:\", np.mean(masked_values))\n",
    "print(\"Std:\", np.std(masked_values))\n",
    "print(\"Median:\", np.median(masked_values))\n",
    "\n",
    "# 히스토그램 시각화\n",
    "plt.hist(masked_values.flatten(), bins=100, color='steelblue', edgecolor='black')\n",
    "plt.title(\"Value Distribution of gen_sample (mask != -1)\")\n",
    "plt.xlabel(\"Value\")\n",
    "plt.ylabel(\"Frequency\")\n",
    "plt.grid(True)\n",
    "plt.show()\n",
    "\n"
   ]
  },
  {
   "cell_type": "code",
   "execution_count": 5,
   "metadata": {},
   "outputs": [
    {
     "name": "stdout",
     "output_type": "stream",
     "text": [
      "(750, 15724)\n",
      "(750, 15724)\n",
      "(3, 15724)\n",
      "pixcorr(vec1, gen1): -0.24386000123148174\n",
      "pixcorr(vec2, gen2): -0.2520202925822968\n",
      "pixcorr(vec3, gen3): -0.2735316386893801\n"
     ]
    }
   ],
   "source": [
    "import numpy as np\n",
    "\n",
    "# pixcorr 함수 정의\n",
    "def pixcorr(a, b):\n",
    "    return np.corrcoef(a.flatten(), b.flatten())[0, 1]\n",
    "\n",
    "# --- 1. fMRI 응답 벡터 불러오기 ---\n",
    "# (a) ses-36, TR 47\n",
    "data1 = np.load('/nas/research/03-Neural_decoding/3-bids/derivatives/b4_roi_new_zscore/sub-01/ses-21/func/sub-01_ses-21_desc-betaroizscore.npy')\n",
    "print(data1.shape)\n",
    "vec1 = data1[329]  # shape: (15724,)\n",
    "\n",
    "# (b) ses-37, TR 390\n",
    "data2 = np.load('/nas/research/03-Neural_decoding/3-bids/derivatives/b4_roi_new_zscore/sub-01/ses-24/func/sub-01_ses-24_desc-betaroizscore.npy')\n",
    "print(data2.shape)\n",
    "vec2 = data2[186]\n",
    "vec3 = data2[329]\n",
    "\n",
    "# --- 2. 생성 이미지의 feature 벡터 불러오기 ---\n",
    "gen_sample = np.load('/nas/research/03-Neural_decoding/3-bids/train_subj01_0/sample000000300.nsdgeneral.npy')\n",
    "print(gen_sample.shape)\n",
    "# gen_sample shape = (3, 15724) 라면, 각 행이 하나의 샘플 벡터\n",
    "gen1, gen2, gen3 = gen_sample[0], gen_sample[1], gen_sample[2]\n",
    "\n",
    "# --- 3. pixcorr 계산 ---\n",
    "print(\"pixcorr(vec1, gen1):\", pixcorr(vec1, gen1))\n",
    "print(\"pixcorr(vec2, gen2):\", pixcorr(vec2, gen2))\n",
    "print(\"pixcorr(vec3, gen3):\", pixcorr(vec3, gen3))\n"
   ]
  },
  {
   "cell_type": "code",
   "execution_count": 33,
   "metadata": {},
   "outputs": [
    {
     "name": "stdout",
     "output_type": "stream",
     "text": [
      "Image size: (256, 256)\n",
      "Image size: (425, 425)\n"
     ]
    }
   ],
   "source": [
    "from PIL import Image\n",
    "\n",
    "img = Image.open('/nas/research/03-Neural_decoding/3-bids/train_subj01_0/sample000000300.jpg')\n",
    "print(\"Image size:\", img.size)  # (width, height)\n",
    "\n",
    "img2 = Image.open('/nas/research/03-Neural_decoding/4-image/coco2017_2489.jpg')\n",
    "print(\"Image size:\", img2.size)  # (width, height)\n"
   ]
  },
  {
   "cell_type": "code",
   "execution_count": 31,
   "metadata": {},
   "outputs": [
    {
     "name": "stdout",
     "output_type": "stream",
     "text": [
      "✅ 저장 완료: /nas/research/03-Neural_decoding/3-bids/derivatives/beta_huggingface/fmri_with_labels.npz\n",
      "X shape: (25611, 15724), Y shape: (25611,)\n"
     ]
    }
   ],
   "source": [
    "import numpy as np\n",
    "import pandas as pd\n",
    "\n",
    "# load fMRI feature vectors\n",
    "fmri_path = '/nas/research/03-Neural_decoding/3-bids/derivatives/beta_huggingface/nsdgeneral.npy'\n",
    "X = np.load(fmri_path)  # shape: (25611, 15724)\n",
    "\n",
    "# load image labels\n",
    "tsv_path = '/nas/research/03-Neural_decoding/3-bids/derivatives/beta_huggingface/mapped_img_train.tsv'\n",
    "Y = pd.read_csv(tsv_path, sep='\\t', header=None).values.squeeze()  # shape: (25611,) 문자열 배열\n",
    "\n",
    "# check shape consistency\n",
    "assert X.shape[0] == Y.shape[0], \"❌ sample 수가 일치하지 않습니다.\"\n",
    "\n",
    "# save to npz\n",
    "output_path = '/nas/research/03-Neural_decoding/3-bids/derivatives/beta_huggingface/fmri_with_labels.npz'\n",
    "np.savez(output_path, X=X, Y=Y)\n",
    "\n",
    "print(f\"✅ 저장 완료: {output_path}\")\n",
    "print(f\"X shape: {X.shape}, Y shape: {Y.shape}\")\n"
   ]
  },
  {
   "cell_type": "code",
   "execution_count": 33,
   "metadata": {},
   "outputs": [
    {
     "name": "stdout",
     "output_type": "stream",
     "text": [
      "📁 포함된 배열 목록: ['X', 'Y']\n",
      "\n",
      "🔍 X (fMRI 벡터) 일부:\n",
      "[[-0.4033 -0.6196 -0.931  ...  0.2277 -1.668  -0.5137]\n",
      " [ 0.666  -1.306  -0.6562 ...  0.9375 -1.32   -0.949 ]\n",
      " [-1.437  -0.5967  0.0484 ...  0.29   -1.243  -1.415 ]]\n",
      "\n",
      "🖼️ Y (이미지 이름) 일부:\n",
      "['coco2017_14.jpg' 'coco2017_14.jpg' 'coco2017_14.jpg' 'coco2017_28.jpg'\n",
      " 'coco2017_28.jpg' 'coco2017_28.jpg' 'coco2017_72.jpg' 'coco2017_72.jpg'\n",
      " 'coco2017_72.jpg' 'coco2017_86.jpg']\n"
     ]
    }
   ],
   "source": [
    "import numpy as np\n",
    "\n",
    "# .npz 파일 경로\n",
    "npz_path = '/nas/research/03-Neural_decoding/3-bids/derivatives/beta_huggingface/fmri_with_labels.npz'\n",
    "\n",
    "# 파일 열기\n",
    "data = np.load(npz_path, allow_pickle=True)\n",
    "\n",
    "# key 목록 출력\n",
    "print(\"📁 포함된 배열 목록:\", data.files)\n",
    "\n",
    "# X 배열 내용 일부 출력 (fMRI feature vector)\n",
    "X = data['X']\n",
    "print(\"\\n🔍 X (fMRI 벡터) 일부:\")\n",
    "print(X[:3])  # 첫 3개 벡터 출력\n",
    "\n",
    "# Y 배열 내용 일부 출력 (이미지 파일 이름)\n",
    "Y = data['Y']\n",
    "print(\"\\n🖼️ Y (이미지 이름) 일부:\")\n",
    "print(Y[:10])  # 첫 10개 출력\n"
   ]
  },
  {
   "cell_type": "code",
   "execution_count": 28,
   "metadata": {},
   "outputs": [
    {
     "name": "stdout",
     "output_type": "stream",
     "text": [
      "\n",
      "⚠️ 3이 아닌 값이 들어 있는 파일 수: 1237개\n",
      "sample000000005.num_uniques.npy: 2\n",
      "sample000000006.num_uniques.npy: 2\n",
      "sample000000007.num_uniques.npy: 2\n",
      "sample000000017.num_uniques.npy: 2\n",
      "sample000000035.num_uniques.npy: 2\n",
      "sample000000036.num_uniques.npy: 1\n",
      "sample000000045.num_uniques.npy: 1\n",
      "sample000000055.num_uniques.npy: 2\n",
      "sample000000062.num_uniques.npy: 2\n",
      "sample000000067.num_uniques.npy: 1\n",
      "sample000000074.num_uniques.npy: 2\n",
      "sample000000084.num_uniques.npy: 2\n",
      "sample000000085.num_uniques.npy: 2\n",
      "sample000000086.num_uniques.npy: 1\n",
      "sample000000087.num_uniques.npy: 2\n",
      "sample000000091.num_uniques.npy: 2\n",
      "sample000000093.num_uniques.npy: 2\n",
      "sample000000095.num_uniques.npy: 1\n",
      "sample000000112.num_uniques.npy: 2\n",
      "sample000000125.num_uniques.npy: 1\n",
      "\n",
      "🔎 값이 1인 파일 수: 311개\n",
      "sample000000036.num_uniques.npy\n",
      "sample000000045.num_uniques.npy\n",
      "sample000000067.num_uniques.npy\n",
      "sample000000086.num_uniques.npy\n",
      "sample000000095.num_uniques.npy\n",
      "sample000000125.num_uniques.npy\n",
      "sample000000142.num_uniques.npy\n",
      "sample000000191.num_uniques.npy\n",
      "sample000000199.num_uniques.npy\n",
      "sample000000213.num_uniques.npy\n",
      "sample000000237.num_uniques.npy\n",
      "sample000000298.num_uniques.npy\n",
      "sample000000350.num_uniques.npy\n",
      "sample000000360.num_uniques.npy\n",
      "sample000000543.num_uniques.npy\n",
      "sample000000581.num_uniques.npy\n",
      "sample000000589.num_uniques.npy\n",
      "sample000000598.num_uniques.npy\n",
      "sample000000600.num_uniques.npy\n",
      "sample000000605.num_uniques.npy\n"
     ]
    }
   ],
   "source": [
    "import numpy as np\n",
    "import os\n",
    "from glob import glob\n",
    "\n",
    "base_dir = '/nas/research/03-Neural_decoding/3-bids/derivatives/beta_huggingface'\n",
    "num_files = sorted(glob(os.path.join(base_dir, 'sample?????????.num_uniques.npy')))\n",
    "\n",
    "unexpected = []\n",
    "ones = []\n",
    "\n",
    "for f in num_files:\n",
    "    try:\n",
    "        val = int(np.load(f))\n",
    "        if val != 3:\n",
    "            basename = os.path.basename(f)\n",
    "            unexpected.append((basename, val))\n",
    "            if val == 1:\n",
    "                ones.append(basename)\n",
    "    except Exception as e:\n",
    "        print(f\"❌ 오류 in {f}: {e}\")\n",
    "\n",
    "# 결과 출력\n",
    "print(f\"\\n⚠️ 3이 아닌 값이 들어 있는 파일 수: {len(unexpected)}개\")\n",
    "for name, val in unexpected[:20]:\n",
    "    print(f\"{name}: {val}\")\n",
    "\n",
    "print(f\"\\n🔎 값이 1인 파일 수: {len(ones)}개\")\n",
    "for name in ones[:20]:  # 너무 많으면 일부만 출력\n",
    "    print(f\"{name}\")\n"
   ]
  },
  {
   "cell_type": "code",
   "execution_count": 39,
   "metadata": {},
   "outputs": [
    {
     "name": "stdout",
     "output_type": "stream",
     "text": [
      "🔍 총 982개의 파일을 검사합니다...\n"
     ]
    },
    {
     "name": "stderr",
     "output_type": "stream",
     "text": [
      "100%|██████████| 982/982 [00:04<00:00, 229.86it/s]\n"
     ]
    },
    {
     "name": "stdout",
     "output_type": "stream",
     "text": [
      "\n",
      "✅ 모든 벡터 평균 완료. 저장 경로: /nas/research/03-Neural_decoding/3-bids/derivatives/beta_huggingface/nsdgeneral_test.npy\n",
      "Final shape: (982, 15724)\n"
     ]
    }
   ],
   "source": [
    "import os\n",
    "import numpy as np\n",
    "from glob import glob\n",
    "from tqdm import tqdm\n",
    "\n",
    "test_dir = '/nas/research/03-Neural_decoding/3-bids/derivatives/beta_huggingface/test'\n",
    "output_path = '/nas/research/03-Neural_decoding/3-bids/derivatives/beta_huggingface/nsdgeneral_test.npy'\n",
    "\n",
    "# 모든 nsdgeneral.npy 파일 경로 수집\n",
    "npy_files = sorted(glob(os.path.join(test_dir, 'sample?????????.nsdgeneral.npy')))\n",
    "\n",
    "print(f\"🔍 총 {len(npy_files)}개의 파일을 검사합니다...\")\n",
    "\n",
    "invalid_files = []\n",
    "averaged_vectors = []\n",
    "\n",
    "for f in tqdm(npy_files):\n",
    "    try:\n",
    "        arr = np.load(f)\n",
    "        if arr.shape[0] != 3:\n",
    "            invalid_files.append((os.path.basename(f), arr.shape))\n",
    "        else:\n",
    "            avg = arr.mean(axis=0)  # (15724,)\n",
    "            averaged_vectors.append(avg)\n",
    "    except Exception as e:\n",
    "        invalid_files.append((os.path.basename(f), f\"오류: {e}\"))\n",
    "\n",
    "# 유효성 검사 후 처리\n",
    "if invalid_files:\n",
    "    print(\"\\n❌ 다음 파일들이 3개의 벡터를 포함하지 않아 병합을 중단합니다:\")\n",
    "    for name, shape in invalid_files[:10]:\n",
    "        print(f\" - {name}: {shape}\")\n",
    "    if len(invalid_files) > 10:\n",
    "        print(f\"... 외 {len(invalid_files) - 10}개 생략됨\")\n",
    "else:\n",
    "    output_array = np.stack(averaged_vectors, axis=0)\n",
    "    np.save(output_path, output_array)\n",
    "    print(f\"\\n✅ 모든 벡터 평균 완료. 저장 경로: {output_path}\")\n",
    "    print(f\"Final shape: {output_array.shape}\")\n"
   ]
  },
  {
   "cell_type": "code",
   "execution_count": 41,
   "metadata": {},
   "outputs": [
    {
     "name": "stdout",
     "output_type": "stream",
     "text": [
      "📝 mapped_img.tsv 생성 중...\n"
     ]
    },
    {
     "name": "stderr",
     "output_type": "stream",
     "text": [
      "100%|██████████| 982/982 [00:00<00:00, 1573.93it/s]"
     ]
    },
    {
     "name": "stdout",
     "output_type": "stream",
     "text": [
      "\n",
      "✅ TSV 파일 저장 완료: /nas/research/03-Neural_decoding/3-bids/derivatives/beta_huggingface/mapped_img_test.tsv\n",
      "mapped_img.tsv shape: (982, 1)\n"
     ]
    },
    {
     "name": "stderr",
     "output_type": "stream",
     "text": [
      "\n"
     ]
    }
   ],
   "source": [
    "import os\n",
    "import numpy as np\n",
    "import pandas as pd\n",
    "from glob import glob\n",
    "from tqdm import tqdm\n",
    "\n",
    "base_dir = '/nas/research/03-Neural_decoding/3-bids/derivatives/beta_huggingface/test'\n",
    "output_tsv = '/nas/research/03-Neural_decoding/3-bids/derivatives/beta_huggingface/mapped_img_test.tsv'\n",
    "\n",
    "coco_files = sorted(glob(os.path.join(base_dir, 'sample?????????.coco73k.npy')))\n",
    "all_filenames = []\n",
    "\n",
    "print(\"📝 mapped_img.tsv 생성 중...\")\n",
    "\n",
    "for coco_path in tqdm(coco_files):\n",
    "    try:\n",
    "        # 정수값 불러오고 +1\n",
    "        val = int(np.load(coco_path)) + 1\n",
    "        filename = f'coco2017_{val}.jpg'\n",
    "\n",
    "        # 3번 반복해서 추가\n",
    "        all_filenames.append(filename)\n",
    "\n",
    "    except Exception as e:\n",
    "        print(f\"❌ 오류 발생 in {coco_path}: {e}\")\n",
    "\n",
    "# TSV 저장\n",
    "df = pd.DataFrame({'image_filename': all_filenames})\n",
    "df.to_csv(output_tsv, sep='\\t', index=False, header=False)\n",
    "\n",
    "print(f\"\\n✅ TSV 파일 저장 완료: {output_tsv}\")\n",
    "print(f\"mapped_img.tsv shape: {df.shape}\")\n"
   ]
  },
  {
   "cell_type": "code",
   "execution_count": 42,
   "metadata": {},
   "outputs": [
    {
     "name": "stdout",
     "output_type": "stream",
     "text": [
      "✅ 저장 완료: /nas/research/03-Neural_decoding/3-bids/derivatives/beta_huggingface/fmri_with_labels_test.npz\n",
      "X shape: (982, 15724), Y shape: (982,)\n"
     ]
    }
   ],
   "source": [
    "import numpy as np\n",
    "import pandas as pd\n",
    "\n",
    "# load fMRI feature vectors\n",
    "fmri_path = '/nas/research/03-Neural_decoding/3-bids/derivatives/beta_huggingface/nsdgeneral_test.npy'\n",
    "X = np.load(fmri_path)  # shape: (25611, 15724)\n",
    "\n",
    "# load image labels\n",
    "tsv_path = '/nas/research/03-Neural_decoding/3-bids/derivatives/beta_huggingface/mapped_img_test.tsv'\n",
    "Y = pd.read_csv(tsv_path, sep='\\t', header=None).values.squeeze()  # shape: (25611,) 문자열 배열\n",
    "\n",
    "# check shape consistency\n",
    "assert X.shape[0] == Y.shape[0], \"❌ sample 수가 일치하지 않습니다.\"\n",
    "\n",
    "# save to npz\n",
    "output_path = '/nas/research/03-Neural_decoding/3-bids/derivatives/beta_huggingface/fmri_with_labels_test.npz'\n",
    "np.savez(output_path, X=X, Y=Y)\n",
    "\n",
    "print(f\"✅ 저장 완료: {output_path}\")\n",
    "print(f\"X shape: {X.shape}, Y shape: {Y.shape}\")\n"
   ]
  },
  {
   "cell_type": "code",
   "execution_count": 45,
   "metadata": {},
   "outputs": [
    {
     "name": "stdout",
     "output_type": "stream",
     "text": [
      "(320, 320, 320)\n"
     ]
    }
   ],
   "source": [
    "import nibabel as nib\n",
    "\n",
    "img = nib.load('/nas/research/03-Neural_decoding/3-bids/test_files/T1.mgz')\n",
    "data = img.get_fdata()  # numpy array\n",
    "print(data.shape)\n"
   ]
  }
 ],
 "metadata": {
  "kernelspec": {
   "display_name": "Python 3",
   "language": "python",
   "name": "python3"
  },
  "language_info": {
   "codemirror_mode": {
    "name": "ipython",
    "version": 3
   },
   "file_extension": ".py",
   "mimetype": "text/x-python",
   "name": "python",
   "nbconvert_exporter": "python",
   "pygments_lexer": "ipython3",
   "version": "3.10.6"
  }
 },
 "nbformat": 4,
 "nbformat_minor": 2
}
