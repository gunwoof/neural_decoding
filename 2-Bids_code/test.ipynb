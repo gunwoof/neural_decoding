{
 "cells": [
  {
   "cell_type": "code",
   "execution_count": 1,
   "metadata": {},
   "outputs": [
    {
     "name": "stdout",
     "output_type": "stream",
     "text": [
      "Shape of the NIfTI image: (82, 106, 84, 750)\n",
      "t=1에서 bold 값이 1인 복셀 개수: 0\n"
     ]
    }
   ],
   "source": [
    "import nibabel as nib\n",
    "import numpy as np\n",
    "\n",
    "# NIfTI 파일 로드\n",
    "file_path = '/nas/research/03-Neural_decoding/3-bids/derivatives/normalize/sub-02/betas_session02.nii.gz'\n",
    "img = nib.load(file_path)\n",
    "data = img.get_fdata()\n",
    "\n",
    "print(\"Shape of the NIfTI image:\", data.shape)\n",
    "\n",
    "# t=1일 때의 볼륨\n",
    "volume_t1 = data\n",
    "# 값이 1인 복셀 위치 찾기\n",
    "indices = np.argwhere(volume_t1 == 1)\n",
    "print(\"t=1에서 bold 값이 1인 복셀 개수:\", len(indices))\n",
    "\n"
   ]
  },
  {
   "cell_type": "code",
   "execution_count": 3,
   "metadata": {},
   "outputs": [
    {
     "name": "stdout",
     "output_type": "stream",
     "text": [
      "Shape of the NIfTI image: (82, 106, 84)\n"
     ]
    }
   ],
   "source": [
    "import nibabel as nib\n",
    "\n",
    "# NIfTI 파일 경로\n",
    "file_path = '/nas/research/03-Neural_decoding/3-bids/derivatives/b4_roi/sub-02/nsdgeneral.nii.gz'  # 또는 .nii\n",
    "\n",
    "# 파일 로드\n",
    "img = nib.load(file_path)\n",
    "\n",
    "# 데이터 배열 추출\n",
    "data = img.get_fdata()\n",
    "\n",
    "# shape 출력\n",
    "print(\"Shape of the NIfTI image:\", data.shape)\n"
   ]
  },
  {
   "cell_type": "code",
   "execution_count": null,
   "metadata": {},
   "outputs": [
    {
     "name": "stdout",
     "output_type": "stream",
     "text": [
      "✅ t=1에서 intensity가 0이 아닌 복셀 수: 15715\n"
     ]
    },
    {
     "ename": "",
     "evalue": "",
     "output_type": "error",
     "traceback": [
      "\u001b[1;31mThe Kernel crashed while executing code in the current cell or a previous cell. \n",
      "\u001b[1;31mPlease review the code in the cell(s) to identify a possible cause of the failure. \n",
      "\u001b[1;31mClick <a href='https://aka.ms/vscodeJupyterKernelCrash'>here</a> for more info. \n",
      "\u001b[1;31mView Jupyter <a href='command:jupyter.viewOutput'>log</a> for further details."
     ]
    }
   ],
   "source": [
    "import nibabel as nib\n",
    "import numpy as np\n",
    "\n",
    "# 파일 경로\n",
    "beta_path = '/nas/research/03-Neural_decoding/3-bids/derivatives/normalize/sub-01/betas_session03.nii.gz'\n",
    "\n",
    "# 데이터 로드\n",
    "beta_img = nib.load(beta_path)\n",
    "beta_data = beta_img.get_fdata()  # shape: (x, y, z, t)\n",
    "\n",
    "# t=1 (두 번째 timepoint)의 3D 볼륨\n",
    "volume_t1 = beta_data[..., 1]  # shape: (x, y, z)\n",
    "\n",
    "# 값이 0이 아닌 (x, y, z) 좌표의 개수 세기\n",
    "non_zero_voxel_count = np.count_nonzero(volume_t1)\n",
    "\n",
    "print(f\"✅ t=1에서 intensity가 0이 아닌 복셀 수: {non_zero_voxel_count}\")\n"
   ]
  },
  {
   "cell_type": "code",
   "execution_count": 5,
   "metadata": {},
   "outputs": [
    {
     "name": "stdout",
     "output_type": "stream",
     "text": [
      "📍 Intensity at (x=35, y=26, z=40, t=1): 0.0\n"
     ]
    }
   ],
   "source": [
    "import nibabel as nib\n",
    "import numpy as np\n",
    "\n",
    "# 파일 경로\n",
    "beta_path = '/nas/research/03-Neural_decoding/3-bids/derivatives/normalize/sub-01/betas_session03.nii.gz'\n",
    "\n",
    "# NIfTI 파일 로드\n",
    "img = nib.load(beta_path)\n",
    "data = img.get_fdata()  # shape: (x, y, z, t)\n",
    "\n",
    "# 원하는 위치 지정\n",
    "x, y, z, t = 35, 26, 40, 1  # 예: ITK-SNAP에서 본 좌표\n",
    "\n",
    "# intensity 출력\n",
    "value = data[x, y, z, t]\n",
    "print(f\"📍 Intensity at (x={x}, y={y}, z={z}, t={t}): {value}\")\n"
   ]
  },
  {
   "cell_type": "code",
   "execution_count": 3,
   "metadata": {},
   "outputs": [],
   "source": [
    "# beta파일 bids 형식으로 만들기\n",
    "import os\n",
    "import re\n",
    "import shutil\n",
    "\n",
    "# 원본 루트 폴더\n",
    "root_dir = \"/nas/research/03-Neural_decoding/3-bids/derivatives/b4_roi\"\n",
    "# 새로운 저장 루트 (BIDS 형식으로 저장할 곳)\n",
    "output_dir = \"/nas/research/03-Neural_decoding/3-bids/derivatives/b4_roi2\"\n",
    "\n",
    "os.makedirs(output_dir, exist_ok=True)\n",
    "\n",
    "for subject_folder in os.listdir(root_dir):\n",
    "    subject_path = os.path.join(root_dir, subject_folder)\n",
    "    if os.path.isdir(subject_path) and subject_folder.startswith(\"sub-\"):\n",
    "        subject_id = subject_folder.split(\"-\")[1]\n",
    "\n",
    "        for filename in os.listdir(subject_path):\n",
    "            if filename.startswith(\"betas_session\") and filename.endswith(\".nii.gz\"):\n",
    "                session_match = re.search(r'session(\\d+)', filename)\n",
    "                if session_match:\n",
    "                    session_num = session_match.group(1).zfill(2)\n",
    "                    desc = \"betaroi\"  # 파일 이름\n",
    "                    new_filename = f\"sub-{subject_id}_ses-{session_num}_desc-{desc}.nii.gz\"\n",
    "\n",
    "                    bids_sub_dir = os.path.join(output_dir, f\"sub-{subject_id}\", f\"ses-{session_num}\", \"func\")\n",
    "                    os.makedirs(bids_sub_dir, exist_ok=True)\n",
    "\n",
    "                    src_file = os.path.join(subject_path, filename)\n",
    "                    dst_file = os.path.join(bids_sub_dir, new_filename)\n",
    "                    shutil.copy2(src_file, dst_file)"
   ]
  },
  {
   "cell_type": "code",
   "execution_count": 12,
   "metadata": {},
   "outputs": [
    {
     "name": "stdout",
     "output_type": "stream",
     "text": [
      "Renamed: zscore_betas_session01.nii.gz → sub-08_ses-01_desc-betaroizscore.nii.gz\n",
      "Renamed: zscore_betas_session02.nii.gz → sub-08_ses-02_desc-betaroizscore.nii.gz\n",
      "Renamed: zscore_betas_session03.nii.gz → sub-08_ses-03_desc-betaroizscore.nii.gz\n",
      "Renamed: zscore_betas_session04.nii.gz → sub-08_ses-04_desc-betaroizscore.nii.gz\n",
      "Renamed: zscore_betas_session05.nii.gz → sub-08_ses-05_desc-betaroizscore.nii.gz\n",
      "Renamed: zscore_betas_session06.nii.gz → sub-08_ses-06_desc-betaroizscore.nii.gz\n",
      "Renamed: zscore_betas_session07.nii.gz → sub-08_ses-07_desc-betaroizscore.nii.gz\n",
      "Renamed: zscore_betas_session08.nii.gz → sub-08_ses-08_desc-betaroizscore.nii.gz\n",
      "Renamed: zscore_betas_session09.nii.gz → sub-08_ses-09_desc-betaroizscore.nii.gz\n",
      "Renamed: zscore_betas_session10.nii.gz → sub-08_ses-10_desc-betaroizscore.nii.gz\n",
      "Renamed: zscore_betas_session11.nii.gz → sub-08_ses-11_desc-betaroizscore.nii.gz\n",
      "Renamed: zscore_betas_session12.nii.gz → sub-08_ses-12_desc-betaroizscore.nii.gz\n",
      "Renamed: zscore_betas_session13.nii.gz → sub-08_ses-13_desc-betaroizscore.nii.gz\n",
      "Renamed: zscore_betas_session14.nii.gz → sub-08_ses-14_desc-betaroizscore.nii.gz\n",
      "Renamed: zscore_betas_session15.nii.gz → sub-08_ses-15_desc-betaroizscore.nii.gz\n",
      "Renamed: zscore_betas_session16.nii.gz → sub-08_ses-16_desc-betaroizscore.nii.gz\n",
      "Renamed: zscore_betas_session17.nii.gz → sub-08_ses-17_desc-betaroizscore.nii.gz\n",
      "Renamed: zscore_betas_session18.nii.gz → sub-08_ses-18_desc-betaroizscore.nii.gz\n",
      "Renamed: zscore_betas_session19.nii.gz → sub-08_ses-19_desc-betaroizscore.nii.gz\n",
      "Renamed: zscore_betas_session20.nii.gz → sub-08_ses-20_desc-betaroizscore.nii.gz\n",
      "Renamed: zscore_betas_session21.nii.gz → sub-08_ses-21_desc-betaroizscore.nii.gz\n",
      "Renamed: zscore_betas_session22.nii.gz → sub-08_ses-22_desc-betaroizscore.nii.gz\n",
      "Renamed: zscore_betas_session23.nii.gz → sub-08_ses-23_desc-betaroizscore.nii.gz\n",
      "Renamed: zscore_betas_session24.nii.gz → sub-08_ses-24_desc-betaroizscore.nii.gz\n",
      "Renamed: zscore_betas_session25.nii.gz → sub-08_ses-25_desc-betaroizscore.nii.gz\n",
      "Renamed: zscore_betas_session26.nii.gz → sub-08_ses-26_desc-betaroizscore.nii.gz\n",
      "Renamed: zscore_betas_session27.nii.gz → sub-08_ses-27_desc-betaroizscore.nii.gz\n",
      "Renamed: zscore_betas_session28.nii.gz → sub-08_ses-28_desc-betaroizscore.nii.gz\n",
      "Renamed: zscore_betas_session29.nii.gz → sub-08_ses-29_desc-betaroizscore.nii.gz\n",
      "Renamed: zscore_betas_session30.nii.gz → sub-08_ses-30_desc-betaroizscore.nii.gz\n"
     ]
    }
   ],
   "source": [
    "import os\n",
    "\n",
    "func_dir = '/nas/research/03-Neural_decoding/3-bids/derivatives/b4_roi_zscore/sub-08/func'\n",
    "files = os.listdir(func_dir)\n",
    "\n",
    "for filename in files:\n",
    "    if filename.startswith(\"zscore_betas_session\") and filename.endswith(\".nii.gz\"):\n",
    "        # 숫자만 추출\n",
    "        session_num = filename.replace(\"zscore_betas_session\", \"\").replace(\".nii.gz\", \"\")\n",
    "        session_num_padded = f\"{int(session_num):02d}\"  # 1 → 01, 9 → 09 등\n",
    "\n",
    "        new_filename = f\"sub-08_ses-{session_num_padded}_desc-betaroizscore.nii.gz\"\n",
    "\n",
    "        # 전체 경로 기준으로 이름 바꾸기\n",
    "        old_path = os.path.join(func_dir, filename)\n",
    "        new_path = os.path.join(func_dir, new_filename)\n",
    "\n",
    "        os.rename(old_path, new_path)\n",
    "        print(f\"Renamed: {filename} → {new_filename}\")"
   ]
  },
  {
   "cell_type": "code",
   "execution_count": null,
   "metadata": {},
   "outputs": [],
   "source": []
  }
 ],
 "metadata": {
  "kernelspec": {
   "display_name": "Python 3",
   "language": "python",
   "name": "python3"
  },
  "language_info": {
   "codemirror_mode": {
    "name": "ipython",
    "version": 3
   },
   "file_extension": ".py",
   "mimetype": "text/x-python",
   "name": "python",
   "nbconvert_exporter": "python",
   "pygments_lexer": "ipython3",
   "version": "3.10.6"
  }
 },
 "nbformat": 4,
 "nbformat_minor": 2
}
