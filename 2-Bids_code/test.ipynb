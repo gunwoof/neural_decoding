{
 "cells": [
  {
   "cell_type": "code",
   "execution_count": null,
   "metadata": {},
   "outputs": [
    {
     "name": "stdout",
     "output_type": "stream",
     "text": [
      "(81, 104, 83)\n",
      "<class 'nibabel.nifti1.Nifti1Header'> object, endian='<'\n",
      "sizeof_hdr      : 348\n",
      "data_type       : b''\n",
      "db_name         : b''\n",
      "extents         : 0\n",
      "session_error   : 0\n",
      "regular         : b'r'\n",
      "dim_info        : 0\n",
      "dim             : [  3  81 104  83   1   1   1   1]\n",
      "intent_p1       : 0.0\n",
      "intent_p2       : 0.0\n",
      "intent_p3       : 0.0\n",
      "intent_code     : none\n",
      "datatype        : int16\n",
      "bitpix          : 16\n",
      "slice_start     : 0\n",
      "pixdim          : [1.  1.8 1.8 1.8 1.  1.  1.  1. ]\n",
      "vox_offset      : 0.0\n",
      "scl_slope       : nan\n",
      "scl_inter       : nan\n",
      "slice_end       : 0\n",
      "slice_code      : unknown\n",
      "xyzt_units      : 0\n",
      "cal_max         : 0.0\n",
      "cal_min         : 0.0\n",
      "slice_duration  : 0.0\n",
      "toffset         : 0.0\n",
      "glmax           : 1\n",
      "glmin           : 0\n",
      "descrip         : b''\n",
      "aux_file        : b'none'\n",
      "qform_code      : unknown\n",
      "sform_code      : scanner\n",
      "quatern_b       : 0.0\n",
      "quatern_c       : 0.0\n",
      "quatern_d       : 0.0\n",
      "qoffset_x       : 0.0\n",
      "qoffset_y       : 0.0\n",
      "qoffset_z       : 0.0\n",
      "srow_x          : [  1.8   0.    0.  -72. ]\n",
      "srow_y          : [  0.    1.8   0.  -92.7]\n",
      "srow_z          : [  0.    0.    1.8 -73.8]\n",
      "intent_name     : b''\n",
      "magic           : b'n+1'\n"
     ]
    }
   ],
   "source": [
    "# .nii 파일 shape, metadata 확인\n",
    "\n",
    "import nibabel as nib\n",
    "import numpy as np\n",
    "\n",
    "file_path = '/nas/research/03-Neural_decoding/3-bids/derivatives/raw_prep_vol/sub-01/brainmask.nii.gz'\n",
    "img = nib.load(file_path)\n",
    "data = img.get_fdata()\n",
    "\n",
    "print(data.shape)\n",
    "\n",
    "header = img.header\n",
    "print(header)"
   ]
  },
  {
   "cell_type": "code",
   "execution_count": 1,
   "metadata": {},
   "outputs": [
    {
     "name": "stdout",
     "output_type": "stream",
     "text": [
      "배열의 shape: (982, 15724)\n",
      "[[ 0.4685  -0.3406  -0.107   ... -0.1604   0.5244   0.1628 ]\n",
      " [-0.4307  -0.1251  -0.1589  ...  0.8584  -0.05576 -0.3054 ]\n",
      " [ 0.6665   0.6816   0.2654  ...  0.561    0.675    0.4456 ]\n",
      " ...\n",
      " [-0.2766  -0.08405  0.892   ... -0.2181  -0.896   -0.644  ]\n",
      " [-0.2634  -1.029    0.0542  ...  0.1042  -0.588   -0.3652 ]\n",
      " [-0.8687  -1.439   -0.6455  ... -0.5825  -0.8076  -0.5776 ]]\n"
     ]
    }
   ],
   "source": [
    "#.npy 파일 shape 확인\n",
    "\n",
    "import numpy as np\n",
    "\n",
    "file_path = '/nas/research/03-Neural_decoding/3-bids/derivatives/beta_huggingface/nsdgeneral_test.npy'\n",
    "data = np.load(file_path)\n",
    "print(f\"배열의 shape: {data.shape}\")\n",
    "print(data)\n"
   ]
  },
  {
   "cell_type": "code",
   "execution_count": null,
   "metadata": {},
   "outputs": [],
   "source": [
    "import nibabel as nib\n",
    "import numpy as np\n",
    "\n",
    "# 파일 경로\n",
    "beta_path = '/nas/research/03-Neural_decoding/3-bids/derivatives/normalize/sub-01/betas_session03.nii.gz'\n",
    "\n",
    "# 데이터 로드\n",
    "beta_img = nib.load(beta_path)\n",
    "beta_data = beta_img.get_fdata()  # shape: (x, y, z, t)\n",
    "\n",
    "# t=1 (두 번째 timepoint)의 3D 볼륨\n",
    "volume_t1 = beta_data[..., 1]  # shape: (x, y, z)\n",
    "\n",
    "# 값이 0이 아닌 (x, y, z) 좌표의 개수 세기\n",
    "non_zero_voxel_count = np.count_nonzero(volume_t1)\n",
    "\n",
    "print(f\"✅ t=1에서 intensity가 0이 아닌 복셀 수: {non_zero_voxel_count}\")\n"
   ]
  },
  {
   "cell_type": "code",
   "execution_count": null,
   "metadata": {},
   "outputs": [],
   "source": [
    "# beta파일 bids 형식으로 만들기\n",
    "import os\n",
    "import re\n",
    "import shutil\n",
    "\n",
    "# 원본 루트 폴더\n",
    "root_dir = \"/nas/research/03-Neural_decoding/3-bids/derivatives/b4_roi\"\n",
    "# 새로운 저장 루트 (BIDS 형식으로 저장할 곳)\n",
    "output_dir = \"/nas/research/03-Neural_decoding/3-bids/derivatives/b4_roi2\"\n",
    "\n",
    "os.makedirs(output_dir, exist_ok=True)\n",
    "\n",
    "for subject_folder in os.listdir(root_dir):\n",
    "    subject_path = os.path.join(root_dir, subject_folder)\n",
    "    if os.path.isdir(subject_path) and subject_folder.startswith(\"sub-\"):\n",
    "        subject_id = subject_folder.split(\"-\")[1]\n",
    "\n",
    "        for filename in os.listdir(subject_path):\n",
    "            if filename.startswith(\"betas_session\") and filename.endswith(\".nii.gz\"):\n",
    "                session_match = re.search(r'session(\\d+)', filename)\n",
    "                if session_match:\n",
    "                    session_num = session_match.group(1).zfill(2)\n",
    "                    desc = \"betaroi\"  # 파일 이름\n",
    "                    new_filename = f\"sub-{subject_id}_ses-{session_num}_desc-{desc}.nii.gz\"\n",
    "\n",
    "                    bids_sub_dir = os.path.join(output_dir, f\"sub-{subject_id}\", f\"ses-{session_num}\", \"func\")\n",
    "                    os.makedirs(bids_sub_dir, exist_ok=True)\n",
    "\n",
    "                    src_file = os.path.join(subject_path, filename)\n",
    "                    dst_file = os.path.join(bids_sub_dir, new_filename)\n",
    "                    shutil.copy2(src_file, dst_file)"
   ]
  },
  {
   "cell_type": "code",
   "execution_count": null,
   "metadata": {},
   "outputs": [
    {
     "name": "stdout",
     "output_type": "stream",
     "text": [
      "[Voxel-wise] 마스크 영역 평균들의 평균: 0.0000\n",
      "[Voxel-wise] 마스크 영역 표준편차들의 평균: 1.0000\n"
     ]
    }
   ],
   "source": [
    "import nibabel as nib\n",
    "import numpy as np\n",
    "\n",
    "# z-score 정규화된 fMRI 파일\n",
    "zscore_file = '/nas/research/03-Neural_decoding/3-bids/derivatives/new_b4_roi_zscore/sub-01/ses-01/func/sub-01_ses-01_desc-betaroizscore.nii.gz'\n",
    "# 마스크 파일\n",
    "mask_file = '/nas/research/03-Neural_decoding/3-bids/derivatives/b4_roi_zscore/sub-01/sub-01_nsdgeneral.nii.gz'\n",
    "\n",
    "# 데이터 로딩\n",
    "zdata = nib.load(zscore_file).get_fdata()  # shape: (X, Y, Z, T)\n",
    "mask = nib.load(mask_file).get_fdata() > 0  # shape: (X, Y, Z), boolean\n",
    "\n",
    "# 시간축 기준 voxel-wise 평균/표준편차 계산 → shape: (X, Y, Z)\n",
    "voxel_means = np.mean(zdata, axis=-1)\n",
    "voxel_stds = np.std(zdata, axis=-1)\n",
    "\n",
    "# 마스크 영역만 골라서 평균 계산\n",
    "mean_of_means = np.mean(voxel_means[mask])\n",
    "mean_of_stds = np.mean(voxel_stds[mask])\n",
    "\n",
    "print(f\"[Voxel-wise] 마스크 영역 평균들의 평균: {mean_of_means:.4f}\")\n",
    "print(f\"[Voxel-wise] 마스크 영역 표준편차들의 평균: {mean_of_stds:.4f}\")\n",
    "\n",
    "\n"
   ]
  },
  {
   "cell_type": "code",
   "execution_count": null,
   "metadata": {},
   "outputs": [],
   "source": [
    "#h5py 파일 압축 풀기\n",
    "\n",
    "import h5py\n",
    "import os\n",
    "import numpy as np\n",
    "\n",
    "def hdf5_to_folder(hdf5_path, output_dir):\n",
    "    def recursively_save(h5_obj, current_path):\n",
    "        for key in h5_obj:\n",
    "            item = h5_obj[key]\n",
    "            item_path = os.path.join(current_path, key)\n",
    "            if isinstance(item, h5py.Dataset):\n",
    "                # npy로 저장\n",
    "                np.save(item_path + '.npy', item[()])\n",
    "            elif isinstance(item, h5py.Group):\n",
    "                os.makedirs(item_path, exist_ok=True)\n",
    "                recursively_save(item, item_path)\n",
    "\n",
    "    with h5py.File(hdf5_path, 'r') as f:\n",
    "        os.makedirs(output_dir, exist_ok=True)\n",
    "        recursively_save(f, output_dir)\n",
    "\n",
    "# 사용 예\n",
    "hdf5_to_folder(\n",
    "    hdf5_path='/nas/research/03-Neural_decoding/3-bids/test_files/subj01_nsdgeneral.hdf5',\n",
    "    output_dir='/nas/research/03-Neural_decoding/3-bids/test_files'\n",
    ")"
   ]
  },
  {
   "cell_type": "code",
   "execution_count": null,
   "metadata": {},
   "outputs": [
    {
     "name": "stdout",
     "output_type": "stream",
     "text": [
      "[2516]\n"
     ]
    }
   ],
   "source": [
    "import numpy as np\n",
    "\n",
    "voxels = np.load('/nas/research/03-Neural_decoding/3-bids/train_subj01_0/sample000000300.coco73k.npy')\n",
    "print(voxels)\n",
    "\n",
    "\n",
    "#images = np.load('/nas/research/03-Neural_decoding/3-bids/subj01_nsdgeneral_extracted/images.npy')\n",
    "#print(images.shape)"
   ]
  },
  {
   "cell_type": "code",
   "execution_count": null,
   "metadata": {},
   "outputs": [
    {
     "name": "stdout",
     "output_type": "stream",
     "text": [
      "Shape: (15724,)\n",
      "Min: -3.752\n",
      "Max: 3.53\n",
      "Mean: -0.2416\n",
      "Std: 0.8574\n",
      "Median: -0.254\n"
     ]
    },
    {
     "data": {
      "image/png": "[encoded data removed]",
      "text/plain": [
       "<Figure size 640x480 with 1 Axes>"
      ]
     },
     "metadata": {},
     "output_type": "display_data"
    }
   ],
   "source": [
    "import numpy as np\n",
    "\n",
    "gen_sample = np.load('/nas/research/03-Neural_decoding/3-bids/train_subj01_0/sample000000300.nsdgeneral.npy')[1]\n",
    "# gen_sample = np.load('/nas/research/03-Neural_decoding/3-bids/derivatives/b4_roi_new_zscore/sub-01/ses-21/func/sub-01_ses-21_desc-betaroizscore.npy')[329]\n",
    "\n",
    "print(\"Shape:\", gen_sample.shape)\n",
    "print(\"Min:\", np.min(gen_sample))\n",
    "print(\"Max:\", np.max(gen_sample))\n",
    "print(\"Mean:\", np.mean(gen_sample))\n",
    "print(\"Std:\", np.std(gen_sample))\n",
    "print(\"Median:\", np.median(gen_sample))\n",
    "import matplotlib.pyplot as plt\n",
    "\n",
    "plt.hist(gen_sample.flatten(), bins=100, color='steelblue', edgecolor='black')\n",
    "plt.title(\"Value Distribution of gen_sample\")\n",
    "plt.xlabel(\"Value\")\n",
    "plt.ylabel(\"Frequency\")\n",
    "plt.grid(True)\n",
    "plt.show()\n",
    "\n"
   ]
  },
  {
   "cell_type": "code",
   "execution_count": null,
   "metadata": {},
   "outputs": [
    {
     "name": "stdout",
     "output_type": "stream",
     "text": [
      "(750, 15724)\n",
      "(750, 15724)\n",
      "(3, 15724)\n",
      "pixcorr(vec1, gen1): -0.24386000123148174\n",
      "pixcorr(vec2, gen2): -0.2520202925822968\n",
      "pixcorr(vec3, gen3): -0.2735316386893801\n"
     ]
    }
   ],
   "source": [
    "import numpy as np\n",
    "\n",
    "# pixcorr 함수 정의\n",
    "def pixcorr(a, b):\n",
    "    return np.corrcoef(a.flatten(), b.flatten())[0, 1]\n",
    "\n",
    "# --- 1. fMRI 응답 벡터 불러오기 ---\n",
    "# (a) ses-36, TR 47\n",
    "data1 = np.load('/nas/research/03-Neural_decoding/3-bids/derivatives/b4_roi_new_zscore/sub-01/ses-21/func/sub-01_ses-21_desc-betaroizscore.npy')\n",
    "print(data1.shape)\n",
    "vec1 = data1[329]  # shape: (15724,)\n",
    "\n",
    "# (b) ses-37, TR 390\n",
    "data2 = np.load('/nas/research/03-Neural_decoding/3-bids/derivatives/b4_roi_new_zscore/sub-01/ses-24/func/sub-01_ses-24_desc-betaroizscore.npy')\n",
    "print(data2.shape)\n",
    "vec2 = data2[186]\n",
    "vec3 = data2[329]\n",
    "\n",
    "# --- 2. 생성 이미지의 feature 벡터 불러오기 ---\n",
    "gen_sample = np.load('/nas/research/03-Neural_decoding/3-bids/train_subj01_0/sample000000300.nsdgeneral.npy')\n",
    "print(gen_sample.shape)\n",
    "# gen_sample shape = (3, 15724) 라면, 각 행이 하나의 샘플 벡터\n",
    "gen1, gen2, gen3 = gen_sample[0], gen_sample[1], gen_sample[2]\n",
    "\n",
    "# --- 3. pixcorr 계산 ---\n",
    "print(\"pixcorr(vec1, gen1):\", pixcorr(vec1, gen1))\n",
    "print(\"pixcorr(vec2, gen2):\", pixcorr(vec2, gen2))\n",
    "print(\"pixcorr(vec3, gen3):\", pixcorr(vec3, gen3))\n"
   ]
  },
  {
   "cell_type": "code",
   "execution_count": null,
   "metadata": {},
   "outputs": [
    {
     "name": "stdout",
     "output_type": "stream",
     "text": [
      "변환 완료: /nas/research/03-Neural_decoding/3-bids/derivatives/raw_rest_fmriprep/sourcedata/freesurfer/sub-01/mri/T1.nii.gz\n"
     ]
    }
   ],
   "source": [
    "import nibabel as nib\n",
    "import os\n",
    "\n",
    "# 원본 파일 경로\n",
    "mgz_file = '/nas/research/03-Neural_decoding/3-bids/derivatives/raw_rest_fmriprep/sourcedata/freesurfer/sub-01/mri/T1.mgz'\n",
    "\n",
    "# 출력 파일 경로 (같은 디렉토리에 .nii.gz로 저장)\n",
    "nii_gz_file = os.path.splitext(mgz_file)[0] + '.nii.gz'\n",
    "\n",
    "# mgz 파일 로드\n",
    "img = nib.load(mgz_file)\n",
    "\n",
    "# nii.gz로 저장\n",
    "nib.save(img, nii_gz_file)\n",
    "\n",
    "print(f\"변환 완료: {nii_gz_file}\")\n"
   ]
  },
  {
   "cell_type": "code",
   "execution_count": null,
   "metadata": {},
   "outputs": [
    {
     "name": "stdout",
     "output_type": "stream",
     "text": [
      "/nas/research/03-Neural_decoding/3-bids/raw_data/sub-01/ses-21/func/sub-01_ses-21_task-rest_run-02_bold.nii.gz\n",
      "/nas/research/03-Neural_decoding/3-bids/raw_data/sub-01/ses-21/func/sub-01_ses-21_task-rest_run-01_bold.nii.gz\n",
      "/nas/research/03-Neural_decoding/3-bids/raw_data/sub-01/ses-22/func/sub-01_ses-22_task-rest_run-01_bold.nii.gz\n",
      "/nas/research/03-Neural_decoding/3-bids/raw_data/sub-01/ses-22/func/sub-01_ses-22_task-rest_run-02_bold.nii.gz\n",
      "/nas/research/03-Neural_decoding/3-bids/raw_data/sub-01/ses-23/func/sub-01_ses-23_task-rest_run-02_bold.nii.gz\n",
      "/nas/research/03-Neural_decoding/3-bids/raw_data/sub-01/ses-23/func/sub-01_ses-23_task-rest_run-01_bold.nii.gz\n",
      "/nas/research/03-Neural_decoding/3-bids/raw_data/sub-01/ses-24/func/sub-01_ses-24_task-rest_run-02_bold.nii.gz\n",
      "/nas/research/03-Neural_decoding/3-bids/raw_data/sub-01/ses-24/func/sub-01_ses-24_task-rest_run-01_bold.nii.gz\n",
      "/nas/research/03-Neural_decoding/3-bids/raw_data/sub-01/ses-25/func/sub-01_ses-25_task-rest_run-02_bold.nii.gz\n",
      "/nas/research/03-Neural_decoding/3-bids/raw_data/sub-01/ses-25/func/sub-01_ses-25_task-rest_run-01_bold.nii.gz\n",
      "/nas/research/03-Neural_decoding/3-bids/raw_data/sub-01/ses-26/func/sub-01_ses-26_task-rest_run-01_bold.nii.gz\n",
      "/nas/research/03-Neural_decoding/3-bids/raw_data/sub-01/ses-26/func/sub-01_ses-26_task-rest_run-02_bold.nii.gz\n",
      "/nas/research/03-Neural_decoding/3-bids/raw_data/sub-01/ses-27/func/sub-01_ses-27_task-rest_run-02_bold.nii.gz\n",
      "/nas/research/03-Neural_decoding/3-bids/raw_data/sub-01/ses-27/func/sub-01_ses-27_task-rest_run-01_bold.nii.gz\n",
      "/nas/research/03-Neural_decoding/3-bids/raw_data/sub-01/ses-28/func/sub-01_ses-28_task-rest_run-01_bold.nii.gz\n",
      "/nas/research/03-Neural_decoding/3-bids/raw_data/sub-01/ses-28/func/sub-01_ses-28_task-rest_run-02_bold.nii.gz\n",
      "/nas/research/03-Neural_decoding/3-bids/raw_data/sub-01/ses-29/func/sub-01_ses-29_task-rest_run-01_bold.nii.gz\n",
      "/nas/research/03-Neural_decoding/3-bids/raw_data/sub-01/ses-29/func/sub-01_ses-29_task-rest_run-02_bold.nii.gz\n",
      "/nas/research/03-Neural_decoding/3-bids/raw_data/sub-01/ses-30/func/sub-01_ses-30_task-rest_run-01_bold.nii.gz\n",
      "/nas/research/03-Neural_decoding/3-bids/raw_data/sub-01/ses-30/func/sub-01_ses-30_task-rest_run-02_bold.nii.gz\n",
      "/nas/research/03-Neural_decoding/3-bids/raw_data/sub-01/ses-31/func/sub-01_ses-31_task-rest_run-01_bold.nii.gz\n",
      "/nas/research/03-Neural_decoding/3-bids/raw_data/sub-01/ses-31/func/sub-01_ses-31_task-rest_run-02_bold.nii.gz\n",
      "/nas/research/03-Neural_decoding/3-bids/raw_data/sub-01/ses-32/func/sub-01_ses-32_task-rest_run-02_bold.nii.gz\n",
      "/nas/research/03-Neural_decoding/3-bids/raw_data/sub-01/ses-32/func/sub-01_ses-32_task-rest_run-01_bold.nii.gz\n",
      "/nas/research/03-Neural_decoding/3-bids/raw_data/sub-01/ses-33/func/sub-01_ses-33_task-rest_run-02_bold.nii.gz\n",
      "/nas/research/03-Neural_decoding/3-bids/raw_data/sub-01/ses-33/func/sub-01_ses-33_task-rest_run-01_bold.nii.gz\n",
      "/nas/research/03-Neural_decoding/3-bids/raw_data/sub-01/ses-34/func/sub-01_ses-34_task-rest_run-02_bold.nii.gz\n",
      "/nas/research/03-Neural_decoding/3-bids/raw_data/sub-01/ses-34/func/sub-01_ses-34_task-rest_run-01_bold.nii.gz\n",
      "/nas/research/03-Neural_decoding/3-bids/raw_data/sub-01/ses-35/func/sub-01_ses-35_task-rest_run-02_bold.nii.gz\n",
      "/nas/research/03-Neural_decoding/3-bids/raw_data/sub-01/ses-35/func/sub-01_ses-35_task-rest_run-01_bold.nii.gz\n",
      "/nas/research/03-Neural_decoding/3-bids/raw_data/sub-01/ses-36/func/sub-01_ses-36_task-rest_run-01_bold.nii.gz\n",
      "/nas/research/03-Neural_decoding/3-bids/raw_data/sub-01/ses-36/func/sub-01_ses-36_task-rest_run-02_bold.nii.gz\n",
      "/nas/research/03-Neural_decoding/3-bids/raw_data/sub-01/ses-37/func/sub-01_ses-37_task-rest_run-02_bold.nii.gz\n",
      "/nas/research/03-Neural_decoding/3-bids/raw_data/sub-01/ses-37/func/sub-01_ses-37_task-rest_run-01_bold.nii.gz\n",
      "/nas/research/03-Neural_decoding/3-bids/raw_data/sub-01/ses-38/func/sub-01_ses-38_task-rest_run-02_bold.nii.gz\n",
      "/nas/research/03-Neural_decoding/3-bids/raw_data/sub-01/ses-38/func/sub-01_ses-38_task-rest_run-01_bold.nii.gz\n",
      "\n",
      "총 파일 개수: 36\n"
     ]
    }
   ],
   "source": [
    "import os\n",
    "\n",
    "root_dir = \"/nas/research/03-Neural_decoding/3-bids/raw_data/sub-01\"\n",
    "\n",
    "count = 0\n",
    "for dirpath, dirnames, filenames in os.walk(root_dir):\n",
    "    for fname in filenames:\n",
    "        # 파일명에 'task-rest'가 포함되고 '.nii.gz'로 끝나는지 검사\n",
    "        if \"task-rest\" in fname and fname.endswith(\".nii.gz\"):\n",
    "            full_path = os.path.join(dirpath, fname)\n",
    "            print(full_path)\n",
    "            count += 1\n",
    "\n",
    "print(f\"\\n총 파일 개수: {count}\")\n"
   ]
  },
  {
   "cell_type": "code",
   "execution_count": null,
   "metadata": {},
   "outputs": [
    {
     "name": "stdout",
     "output_type": "stream",
     "text": [
      "Copied: /nas/research/03-Neural_decoding/3-bids/raw_data/sub-01/ses-21/func/sub-01_ses-21_task-rest_run-01_bold.json → /nas/research/03-Neural_decoding/3-bids/derivatives/raw_rest/sub-01/ses-21/func/sub-01_ses-21_task-rest_run-01_bold.json\n",
      "Copied: /nas/research/03-Neural_decoding/3-bids/raw_data/sub-01/ses-21/func/sub-01_ses-21_task-rest_run-02_bold.json → /nas/research/03-Neural_decoding/3-bids/derivatives/raw_rest/sub-01/ses-21/func/sub-01_ses-21_task-rest_run-02_bold.json\n",
      "Copied: /nas/research/03-Neural_decoding/3-bids/raw_data/sub-01/ses-22/func/sub-01_ses-22_task-rest_run-01_bold.json → /nas/research/03-Neural_decoding/3-bids/derivatives/raw_rest/sub-01/ses-22/func/sub-01_ses-22_task-rest_run-01_bold.json\n",
      "Copied: /nas/research/03-Neural_decoding/3-bids/raw_data/sub-01/ses-22/func/sub-01_ses-22_task-rest_run-02_bold.json → /nas/research/03-Neural_decoding/3-bids/derivatives/raw_rest/sub-01/ses-22/func/sub-01_ses-22_task-rest_run-02_bold.json\n",
      "Copied: /nas/research/03-Neural_decoding/3-bids/raw_data/sub-01/ses-23/func/sub-01_ses-23_task-rest_run-01_bold.json → /nas/research/03-Neural_decoding/3-bids/derivatives/raw_rest/sub-01/ses-23/func/sub-01_ses-23_task-rest_run-01_bold.json\n",
      "Copied: /nas/research/03-Neural_decoding/3-bids/raw_data/sub-01/ses-23/func/sub-01_ses-23_task-rest_run-02_bold.json → /nas/research/03-Neural_decoding/3-bids/derivatives/raw_rest/sub-01/ses-23/func/sub-01_ses-23_task-rest_run-02_bold.json\n",
      "Copied: /nas/research/03-Neural_decoding/3-bids/raw_data/sub-01/ses-24/func/sub-01_ses-24_task-rest_run-01_bold.json → /nas/research/03-Neural_decoding/3-bids/derivatives/raw_rest/sub-01/ses-24/func/sub-01_ses-24_task-rest_run-01_bold.json\n",
      "Copied: /nas/research/03-Neural_decoding/3-bids/raw_data/sub-01/ses-24/func/sub-01_ses-24_task-rest_run-02_bold.json → /nas/research/03-Neural_decoding/3-bids/derivatives/raw_rest/sub-01/ses-24/func/sub-01_ses-24_task-rest_run-02_bold.json\n",
      "Copied: /nas/research/03-Neural_decoding/3-bids/raw_data/sub-01/ses-25/func/sub-01_ses-25_task-rest_run-01_bold.json → /nas/research/03-Neural_decoding/3-bids/derivatives/raw_rest/sub-01/ses-25/func/sub-01_ses-25_task-rest_run-01_bold.json\n",
      "Copied: /nas/research/03-Neural_decoding/3-bids/raw_data/sub-01/ses-25/func/sub-01_ses-25_task-rest_run-02_bold.json → /nas/research/03-Neural_decoding/3-bids/derivatives/raw_rest/sub-01/ses-25/func/sub-01_ses-25_task-rest_run-02_bold.json\n",
      "Copied: /nas/research/03-Neural_decoding/3-bids/raw_data/sub-01/ses-26/func/sub-01_ses-26_task-rest_run-01_bold.json → /nas/research/03-Neural_decoding/3-bids/derivatives/raw_rest/sub-01/ses-26/func/sub-01_ses-26_task-rest_run-01_bold.json\n",
      "Copied: /nas/research/03-Neural_decoding/3-bids/raw_data/sub-01/ses-26/func/sub-01_ses-26_task-rest_run-02_bold.json → /nas/research/03-Neural_decoding/3-bids/derivatives/raw_rest/sub-01/ses-26/func/sub-01_ses-26_task-rest_run-02_bold.json\n",
      "Copied: /nas/research/03-Neural_decoding/3-bids/raw_data/sub-01/ses-27/func/sub-01_ses-27_task-rest_run-01_bold.json → /nas/research/03-Neural_decoding/3-bids/derivatives/raw_rest/sub-01/ses-27/func/sub-01_ses-27_task-rest_run-01_bold.json\n",
      "Copied: /nas/research/03-Neural_decoding/3-bids/raw_data/sub-01/ses-27/func/sub-01_ses-27_task-rest_run-02_bold.json → /nas/research/03-Neural_decoding/3-bids/derivatives/raw_rest/sub-01/ses-27/func/sub-01_ses-27_task-rest_run-02_bold.json\n",
      "Copied: /nas/research/03-Neural_decoding/3-bids/raw_data/sub-01/ses-28/func/sub-01_ses-28_task-rest_run-01_bold.json → /nas/research/03-Neural_decoding/3-bids/derivatives/raw_rest/sub-01/ses-28/func/sub-01_ses-28_task-rest_run-01_bold.json\n",
      "Copied: /nas/research/03-Neural_decoding/3-bids/raw_data/sub-01/ses-28/func/sub-01_ses-28_task-rest_run-02_bold.json → /nas/research/03-Neural_decoding/3-bids/derivatives/raw_rest/sub-01/ses-28/func/sub-01_ses-28_task-rest_run-02_bold.json\n",
      "Copied: /nas/research/03-Neural_decoding/3-bids/raw_data/sub-01/ses-29/func/sub-01_ses-29_task-rest_run-01_bold.json → /nas/research/03-Neural_decoding/3-bids/derivatives/raw_rest/sub-01/ses-29/func/sub-01_ses-29_task-rest_run-01_bold.json\n",
      "Copied: /nas/research/03-Neural_decoding/3-bids/raw_data/sub-01/ses-29/func/sub-01_ses-29_task-rest_run-02_bold.json → /nas/research/03-Neural_decoding/3-bids/derivatives/raw_rest/sub-01/ses-29/func/sub-01_ses-29_task-rest_run-02_bold.json\n",
      "Copied: /nas/research/03-Neural_decoding/3-bids/raw_data/sub-01/ses-30/func/sub-01_ses-30_task-rest_run-01_bold.json → /nas/research/03-Neural_decoding/3-bids/derivatives/raw_rest/sub-01/ses-30/func/sub-01_ses-30_task-rest_run-01_bold.json\n",
      "Copied: /nas/research/03-Neural_decoding/3-bids/raw_data/sub-01/ses-30/func/sub-01_ses-30_task-rest_run-02_bold.json → /nas/research/03-Neural_decoding/3-bids/derivatives/raw_rest/sub-01/ses-30/func/sub-01_ses-30_task-rest_run-02_bold.json\n",
      "Copied: /nas/research/03-Neural_decoding/3-bids/raw_data/sub-01/ses-31/func/sub-01_ses-31_task-rest_run-01_bold.json → /nas/research/03-Neural_decoding/3-bids/derivatives/raw_rest/sub-01/ses-31/func/sub-01_ses-31_task-rest_run-01_bold.json\n",
      "Copied: /nas/research/03-Neural_decoding/3-bids/raw_data/sub-01/ses-31/func/sub-01_ses-31_task-rest_run-02_bold.json → /nas/research/03-Neural_decoding/3-bids/derivatives/raw_rest/sub-01/ses-31/func/sub-01_ses-31_task-rest_run-02_bold.json\n",
      "Copied: /nas/research/03-Neural_decoding/3-bids/raw_data/sub-01/ses-32/func/sub-01_ses-32_task-rest_run-01_bold.json → /nas/research/03-Neural_decoding/3-bids/derivatives/raw_rest/sub-01/ses-32/func/sub-01_ses-32_task-rest_run-01_bold.json\n",
      "Copied: /nas/research/03-Neural_decoding/3-bids/raw_data/sub-01/ses-32/func/sub-01_ses-32_task-rest_run-02_bold.json → /nas/research/03-Neural_decoding/3-bids/derivatives/raw_rest/sub-01/ses-32/func/sub-01_ses-32_task-rest_run-02_bold.json\n",
      "Copied: /nas/research/03-Neural_decoding/3-bids/raw_data/sub-01/ses-33/func/sub-01_ses-33_task-rest_run-01_bold.json → /nas/research/03-Neural_decoding/3-bids/derivatives/raw_rest/sub-01/ses-33/func/sub-01_ses-33_task-rest_run-01_bold.json\n",
      "Copied: /nas/research/03-Neural_decoding/3-bids/raw_data/sub-01/ses-33/func/sub-01_ses-33_task-rest_run-02_bold.json → /nas/research/03-Neural_decoding/3-bids/derivatives/raw_rest/sub-01/ses-33/func/sub-01_ses-33_task-rest_run-02_bold.json\n",
      "Copied: /nas/research/03-Neural_decoding/3-bids/raw_data/sub-01/ses-34/func/sub-01_ses-34_task-rest_run-01_bold.json → /nas/research/03-Neural_decoding/3-bids/derivatives/raw_rest/sub-01/ses-34/func/sub-01_ses-34_task-rest_run-01_bold.json\n",
      "Copied: /nas/research/03-Neural_decoding/3-bids/raw_data/sub-01/ses-34/func/sub-01_ses-34_task-rest_run-02_bold.json → /nas/research/03-Neural_decoding/3-bids/derivatives/raw_rest/sub-01/ses-34/func/sub-01_ses-34_task-rest_run-02_bold.json\n",
      "Copied: /nas/research/03-Neural_decoding/3-bids/raw_data/sub-01/ses-35/func/sub-01_ses-35_task-rest_run-01_bold.json → /nas/research/03-Neural_decoding/3-bids/derivatives/raw_rest/sub-01/ses-35/func/sub-01_ses-35_task-rest_run-01_bold.json\n",
      "Copied: /nas/research/03-Neural_decoding/3-bids/raw_data/sub-01/ses-35/func/sub-01_ses-35_task-rest_run-02_bold.json → /nas/research/03-Neural_decoding/3-bids/derivatives/raw_rest/sub-01/ses-35/func/sub-01_ses-35_task-rest_run-02_bold.json\n",
      "Copied: /nas/research/03-Neural_decoding/3-bids/raw_data/sub-01/ses-36/func/sub-01_ses-36_task-rest_run-01_bold.json → /nas/research/03-Neural_decoding/3-bids/derivatives/raw_rest/sub-01/ses-36/func/sub-01_ses-36_task-rest_run-01_bold.json\n",
      "Copied: /nas/research/03-Neural_decoding/3-bids/raw_data/sub-01/ses-36/func/sub-01_ses-36_task-rest_run-02_bold.json → /nas/research/03-Neural_decoding/3-bids/derivatives/raw_rest/sub-01/ses-36/func/sub-01_ses-36_task-rest_run-02_bold.json\n",
      "Copied: /nas/research/03-Neural_decoding/3-bids/raw_data/sub-01/ses-37/func/sub-01_ses-37_task-rest_run-01_bold.json → /nas/research/03-Neural_decoding/3-bids/derivatives/raw_rest/sub-01/ses-37/func/sub-01_ses-37_task-rest_run-01_bold.json\n",
      "Copied: /nas/research/03-Neural_decoding/3-bids/raw_data/sub-01/ses-37/func/sub-01_ses-37_task-rest_run-02_bold.json → /nas/research/03-Neural_decoding/3-bids/derivatives/raw_rest/sub-01/ses-37/func/sub-01_ses-37_task-rest_run-02_bold.json\n",
      "Copied: /nas/research/03-Neural_decoding/3-bids/raw_data/sub-01/ses-38/func/sub-01_ses-38_task-rest_run-01_bold.json → /nas/research/03-Neural_decoding/3-bids/derivatives/raw_rest/sub-01/ses-38/func/sub-01_ses-38_task-rest_run-01_bold.json\n",
      "Copied: /nas/research/03-Neural_decoding/3-bids/raw_data/sub-01/ses-38/func/sub-01_ses-38_task-rest_run-02_bold.json → /nas/research/03-Neural_decoding/3-bids/derivatives/raw_rest/sub-01/ses-38/func/sub-01_ses-38_task-rest_run-02_bold.json\n"
     ]
    }
   ],
   "source": [
    "import os\n",
    "import shutil\n",
    "from glob import glob\n",
    "\n",
    "# 원본과 대상 루트 경로\n",
    "raw_root  = \"/nas/research/03-Neural_decoding/3-bids/raw_data/sub-01\"\n",
    "dest_root = \"/nas/research/03-Neural_decoding/3-bids/derivatives/raw_rest/sub-01\"\n",
    "\n",
    "for ses in range(21, 39):  # 21 ~ 38\n",
    "    ses_folder = f\"ses-{ses:02d}\"\n",
    "    src_func = os.path.join(raw_root,  ses_folder, \"func\")\n",
    "    dst_func = os.path.join(dest_root, ses_folder, \"func\")\n",
    "    \n",
    "    # 복사할 파일 패턴: run-01 과 run-02\n",
    "    for run in (\"01\", \"02\"):\n",
    "        pattern = os.path.join(\n",
    "            src_func,\n",
    "            f\"sub-01_{ses_folder}_task-rest_run-{run}_bold.json\"\n",
    "        )\n",
    "        for src_path in glob(pattern):\n",
    "            # 대상 경로에 파일명 그대로 복사\n",
    "            dst_path = os.path.join(dst_func, os.path.basename(src_path))\n",
    "            shutil.copy2(src_path, dst_path)\n",
    "            print(f\"Copied: {src_path} → {dst_path}\")\n",
    "\n"
   ]
  },
  {
   "cell_type": "code",
   "execution_count": null,
   "metadata": {},
   "outputs": [
    {
     "name": "stderr",
     "output_type": "stream",
     "text": [
      "Processing sessions: 100%|██████████| 18/18 [11:28<00:00, 38.23s/it]\n"
     ]
    }
   ],
   "source": [
    "import os\n",
    "import numpy as np\n",
    "import nibabel as nib\n",
    "from tqdm import tqdm\n",
    "\n",
    "# 입력 및 출력 경로 설정\n",
    "input_base = \"/nas/research/03-Neural_decoding/3-bids/derivatives/raw_rest_fmriprep/sub-01\"\n",
    "output_base = \"/nas/research/03-Neural_decoding/3-bids/derivatives/raw_rest/sub-01\"\n",
    "\n",
    "sessions = [f\"ses-{i:02d}\" for i in range(21, 39)]\n",
    "runs = [f\"run-{i:02d}\" for i in range(1, 3)]\n",
    "\n",
    "for ses in tqdm(sessions, desc=\"Processing sessions\"):\n",
    "    for run in runs:\n",
    "        func_input_dir = os.path.join(input_base, ses, \"func\")\n",
    "        bold_path = os.path.join(func_input_dir, f\"sub-01_{ses}_task-rest_{run}_space-MNI152NLin2009cAsym_desc-preproc_bold.nii.gz\")\n",
    "        mask_path = os.path.join(func_input_dir, f\"sub-01_{ses}_task-rest_{run}_space-MNI152NLin2009cAsym_desc-brain_mask.nii.gz\")\n",
    "\n",
    "        if not os.path.exists(bold_path) or not os.path.exists(mask_path):\n",
    "            print(f\"Missing files for {ses} {run}\")\n",
    "            continue\n",
    "\n",
    "        bold_img = nib.load(bold_path)\n",
    "        mask_img = nib.load(mask_path)\n",
    "\n",
    "        bold_data = bold_img.get_fdata()         # (X, Y, Z, T)\n",
    "        mask_data = mask_img.get_fdata()         # (X, Y, Z), 값은 0 또는 1\n",
    "        affine = bold_img.affine\n",
    "        header = bold_img.header\n",
    "\n",
    "        # 마스크를 4D로 확장하여 곱셈 (broadcasting)\n",
    "        masked_bold = bold_data * mask_data[..., np.newaxis]  # (X, Y, Z, T)\n",
    "\n",
    "        # 출력 디렉토리 생성\n",
    "        func_output_dir = os.path.join(output_base, ses, \"func\")\n",
    "        os.makedirs(func_output_dir, exist_ok=True)\n",
    "\n",
    "        # 저장 경로 및 파일 저장\n",
    "        output_path = os.path.join(func_output_dir, f\"sub-01_{ses}_task-rest_{run}_space-MNI152NLin2009cAsym_desc-be_bold.nii.gz\")\n",
    "        masked_img = nib.Nifti1Image(masked_bold, affine=affine, header=header)\n",
    "        nib.save(masked_img, output_path)\n"
   ]
  },
  {
   "cell_type": "code",
   "execution_count": null,
   "metadata": {},
   "outputs": [
    {
     "name": "stderr",
     "output_type": "stream",
     "text": [
      "Sessions: 100%|██████████| 18/18 [01:31<00:00,  5.07s/it]\n"
     ]
    }
   ],
   "source": [
    "import os\n",
    "import numpy as np\n",
    "import nibabel as nib\n",
    "from tqdm import tqdm\n",
    "\n",
    "# 경로 설정\n",
    "bold_base = \"/nas/research/03-Neural_decoding/3-bids/derivatives/raw_rest/sub-01\"\n",
    "dk_path = os.path.join(bold_base, \"dk_mask_MNI.nii.gz\")\n",
    "\n",
    "# 사용할 DK label 정의 (시각 처리 관련 20개 ROI)\n",
    "target_labels = np.array([\n",
    "    1005, 1007, 1008, 1009, 1011, 1013, 1015, 1016, 1021, 1029,\n",
    "    2005, 2007, 2008, 2009, 2011, 2013, 2015, 2016, 2021, 2029\n",
    "])\n",
    "\n",
    "# DK atlas 로드\n",
    "dk_img = nib.load(dk_path)\n",
    "dk_data = dk_img.get_fdata()\n",
    "\n",
    "sessions = [f\"ses-{i:02d}\" for i in range(21, 39)]\n",
    "runs = [f\"run-{i:02d}\" for i in range(1, 3)]\n",
    "\n",
    "for ses in tqdm(sessions, desc=\"Sessions\"):\n",
    "    for run in runs:\n",
    "        func_dir = os.path.join(bold_base, ses, \"func\")\n",
    "        bold_file = os.path.join(func_dir, f\"sub-01_{ses}_task-rest_{run}_space-MNI152NLin2009cAsym_desc-be_bold.nii.gz\")\n",
    "\n",
    "        if not os.path.exists(bold_file):\n",
    "            print(f\"File missing: {bold_file}\")\n",
    "            continue\n",
    "\n",
    "        # fMRI 로드\n",
    "        bold_img = nib.load(bold_file)\n",
    "        bold_data = bold_img.get_fdata()  # shape: (X, Y, Z, T)\n",
    "        T = bold_data.shape[-1]\n",
    "\n",
    "        # 각 ROI별 평균 시계열 계산\n",
    "        roi_ts_list = []\n",
    "        for label in target_labels:\n",
    "            mask = (dk_data == label)\n",
    "            roi_voxels = bold_data[mask]  # shape: (n_voxels, T)\n",
    "\n",
    "            if roi_voxels.size == 0:\n",
    "                print(f\"Warning: label {label} has no voxels in {bold_file}\")\n",
    "                roi_mean = np.zeros(T)\n",
    "            else:\n",
    "                roi_mean = np.mean(roi_voxels, axis=0)  # shape: (T,)\n",
    "\n",
    "            roi_ts_list.append(roi_mean)\n",
    "\n",
    "        roi_ts = np.stack(roi_ts_list, axis=1)  # shape: (T, 20)\n",
    "\n",
    "        # Z-score normalization (time series 기준)\n",
    "        roi_z = (roi_ts - np.mean(roi_ts, axis=0)) / np.std(roi_ts, axis=0)\n",
    "\n",
    "        # FC matrix 계산\n",
    "        fc_matrix = np.corrcoef(roi_z.T)  # shape: (20, 20)\n",
    "\n",
    "        # 저장\n",
    "        out_prefix = f\"sub-01_{ses}_{run}\"\n",
    "        np.save(os.path.join(func_dir, f\"{out_prefix}_roi_timeseries_vis20.npy\"), roi_ts)\n",
    "        np.save(os.path.join(func_dir, f\"{out_prefix}_fc_matrix_vis20.npy\"), fc_matrix)\n",
    "\n"
   ]
  },
  {
   "cell_type": "code",
   "execution_count": 51,
   "metadata": {},
   "outputs": [
    {
     "data": {
      "image/png": "[encoded data removed]",
      "text/plain": [
       "<Figure size 800x600 with 2 Axes>"
      ]
     },
     "metadata": {},
     "output_type": "display_data"
    }
   ],
   "source": [
    "import numpy as np\n",
    "import matplotlib.pyplot as plt\n",
    "\n",
    "# 저장된 FC 행렬 경로 (예시: ses-21, run-01)\n",
    "fc_path = \"/nas/research/03-Neural_decoding/3-bids/derivatives/raw_rest/sub-01/ses-21/func/sub-01_ses-21_run-01_fc_matrix_vis20.npy\"\n",
    "\n",
    "# FC 행렬 로드\n",
    "fc_matrix = np.load(fc_path)\n",
    "\n",
    "# 시각화\n",
    "plt.figure(figsize=(8, 6))\n",
    "plt.imshow(fc_matrix, cmap='coolwarm', vmin=-1, vmax=1)\n",
    "plt.colorbar(label='Pearson Correlation')\n",
    "plt.title('Functional Connectivity Matrix (DK atlas)')\n",
    "plt.xlabel('ROI')\n",
    "plt.ylabel('ROI')\n",
    "plt.tight_layout()\n",
    "plt.show()\n"
   ]
  },
  {
   "cell_type": "code",
   "execution_count": null,
   "metadata": {},
   "outputs": [
    {
     "name": "stdout",
     "output_type": "stream",
     "text": [
      "Affine diff:\n",
      " [[ 1.00066108e+00  1.63368136e-02  2.79503167e-02  3.38277435e+00]\n",
      " [-1.92222763e-02  1.00475204e+00 -8.49191621e-02  3.21049652e+01]\n",
      " [-2.60499660e-02  8.55211839e-02  1.00501090e+00  2.98438950e+01]\n",
      " [ 0.00000000e+00  0.00000000e+00  0.00000000e+00  0.00000000e+00]]\n",
      "Max diff: 32.10496520996094\n"
     ]
    }
   ],
   "source": [
    "import nibabel as nib\n",
    "import numpy as np\n",
    "\n",
    "dk = nib.load(\"/nas/research/03-Neural_decoding/3-bids/derivatives/raw_rest/sub-01/DK-atlas-fmri.nii.gz\")\n",
    "t1 = nib.load(\"/nas/research/03-Neural_decoding/3-bids/raw_data/sub-01/ses-01/anat/sub-01_ses-01_T1w.nii.gz\")\n",
    "\n",
    "print(\"Affine diff:\\n\", dk.affine - t1.affine)\n",
    "print(\"Max diff:\", np.max(np.abs(dk.affine - t1.affine)))\n",
    "\n"
   ]
  },
  {
   "cell_type": "code",
   "execution_count": null,
   "metadata": {},
   "outputs": [
    {
     "name": "stdout",
     "output_type": "stream",
     "text": [
      "Saved average FC matrix to: /nas/research/03-Neural_decoding/3-bids/derivatives/raw_rest/sub-01/fc_matrix_vis20_mean.npy\n"
     ]
    }
   ],
   "source": [
    "import os\n",
    "import numpy as np\n",
    "\n",
    "# 세션 및 런 리스트 정의\n",
    "sessions = [f\"ses-{i:02d}\" for i in range(21, 39)]\n",
    "runs = [f\"run-{i:02d}\" for i in range(1, 3)]\n",
    "\n",
    "# 경로 베이스\n",
    "base_dir = \"/nas/research/03-Neural_decoding/3-bids/derivatives/raw_rest/sub-01\"\n",
    "\n",
    "fc_matrices = []\n",
    "\n",
    "for ses in sessions:\n",
    "    for run in runs:\n",
    "        fc_path = os.path.join(base_dir, ses, \"func\", f\"sub-01_{ses}_{run}_fc_matrix_vis20.npy\")\n",
    "        if os.path.exists(fc_path):\n",
    "            fc = np.load(fc_path)\n",
    "            if fc.shape == (20, 20):\n",
    "                fc_matrices.append(fc)\n",
    "            else:\n",
    "                print(f\"Skipping {fc_path} due to unexpected shape: {fc.shape}\")\n",
    "        else:\n",
    "            print(f\"Missing: {fc_path}\")\n",
    "\n",
    "# 평균 계산\n",
    "if fc_matrices:\n",
    "    fc_mean = np.mean(fc_matrices, axis=0)\n",
    "    out_path = os.path.join(base_dir, \"fc_matrix_vis20_mean.npy\")\n",
    "    np.save(out_path, fc_mean)\n",
    "    print(f\"Saved average FC matrix to: {out_path}\")\n",
    "else:\n",
    "    print(\"No valid FC matrices found.\")\n",
    "\n"
   ]
  },
  {
   "cell_type": "code",
   "execution_count": 34,
   "metadata": {},
   "outputs": [
    {
     "name": "stdout",
     "output_type": "stream",
     "text": [
      "run-01 저장 완료: (103, 103)\n",
      "run-02 저장 완료: (103, 103)\n"
     ]
    }
   ],
   "source": [
    "import os\n",
    "import numpy as np\n",
    "import nibabel as nib\n",
    "\n",
    "# 경로 설정\n",
    "bold_base = \"/nas/research/03-Neural_decoding/3-bids/derivatives/raw_rest/sub-01\"\n",
    "dk_path = os.path.join(bold_base, \"dk_mask_MNI.nii.gz\")\n",
    "\n",
    "# DK atlas 로드\n",
    "dk_img = nib.load(dk_path)\n",
    "dk_data = dk_img.get_fdata()\n",
    "all_labels = np.unique(dk_data)\n",
    "all_labels = all_labels[all_labels != 0]  # background 제외\n",
    "\n",
    "# 처리할 세션/런\n",
    "session = \"ses-21\"\n",
    "runs = [\"run-01\", \"run-02\"]\n",
    "\n",
    "for run in runs:\n",
    "    func_dir = os.path.join(bold_base, session, \"func\")\n",
    "    bold_file = os.path.join(\n",
    "        func_dir, f\"sub-01_{session}_task-rest_{run}_space-MNI152NLin2009cAsym_desc-be_bold.nii.gz\"\n",
    "    )\n",
    "\n",
    "    if not os.path.exists(bold_file):\n",
    "        print(f\"File missing: {bold_file}\")\n",
    "        continue\n",
    "\n",
    "    # fMRI 로드\n",
    "    bold_img = nib.load(bold_file)\n",
    "    bold_data = bold_img.get_fdata()  # (X, Y, Z, T)\n",
    "    T = bold_data.shape[-1]\n",
    "\n",
    "    roi_ts_list = []\n",
    "    for label in all_labels:\n",
    "        mask = (dk_data == label)\n",
    "        roi_voxels = bold_data[mask]  # (n_voxels, T)\n",
    "\n",
    "        if roi_voxels.size == 0:\n",
    "            print(f\"Warning: label {label} has no voxels in {bold_file}\")\n",
    "            roi_mean = np.zeros(T)\n",
    "        else:\n",
    "            roi_mean = np.mean(roi_voxels, axis=0)\n",
    "\n",
    "        roi_ts_list.append(roi_mean)\n",
    "\n",
    "    roi_ts = np.stack(roi_ts_list, axis=1)  # (T, N_ROI)\n",
    "\n",
    "    # Z-score 정규화\n",
    "    roi_z = (roi_ts - np.mean(roi_ts, axis=0)) / np.std(roi_ts, axis=0)\n",
    "\n",
    "    # FC matrix 계산\n",
    "    fc_matrix = np.corrcoef(roi_z.T)  # (N_ROI, N_ROI)\n",
    "\n",
    "    # 저장\n",
    "    out_prefix = f\"sub-01_{session}_{run}\"\n",
    "    np.save(os.path.join(func_dir, f\"{out_prefix}_roi_timeseries_all.npy\"), roi_ts)\n",
    "    np.save(os.path.join(func_dir, f\"{out_prefix}_fc_matrix_all.npy\"), fc_matrix)\n",
    "\n",
    "    print(f\"{run} 저장 완료: {fc_matrix.shape}\")\n"
   ]
  },
  {
   "cell_type": "code",
   "execution_count": 81,
   "metadata": {},
   "outputs": [
    {
     "name": "stderr",
     "output_type": "stream",
     "text": [
      "/tmp/ipykernel_2521489/853608085.py:5: MatplotlibDeprecationWarning: The get_cmap function was deprecated in Matplotlib 3.7 and will be removed two minor releases later. Use ``matplotlib.colormaps[name]`` or ``matplotlib.colormaps.get_cmap(obj)`` instead.\n",
      "  base_cmap = plt.cm.get_cmap('PuBu')\n"
     ]
    },
    {
     "data": {
      "image/png": "[encoded data removed]",
      "text/plain": [
       "<Figure size 800x600 with 2 Axes>"
      ]
     },
     "metadata": {},
     "output_type": "display_data"
    }
   ],
   "source": [
    "import numpy as np\n",
    "import matplotlib.pyplot as plt\n",
    "import matplotlib as mpl\n",
    "\n",
    "base_cmap = plt.cm.get_cmap('PuBu')\n",
    "colors = base_cmap(np.linspace(0, 1, 256))\n",
    "bg_color1 = np.array([0xE1,0xBE,0xE7]) / 255\n",
    "blend_factor = 0.3\n",
    "white = np.ones(3)\n",
    "colors[:, :3] = colors[:, :3] + (bg_color1 - colors[:, :3]) * blend_factor\n",
    "light_PuBu = mpl.colors.LinearSegmentedColormap.from_list('LightPuBu', colors)\n",
    "\n",
    "# 저장된 FC 행렬 경로 (예시: ses-21, run-01)\n",
    "fc_path = \"/nas/research/03-Neural_decoding/3-bids/derivatives/raw_rest/sub-01/ses-21/func/sub-01_ses-21_run-01_fc_matrix_vis20.npy\"\n",
    "\n",
    "# FC 행렬 로드\n",
    "fc_matrix = np.load(fc_path)\n",
    "\n",
    "# 시각화\n",
    "plt.figure(figsize=(8, 6))\n",
    "plt.imshow(fc_matrix, cmap=light_PuBu, vmin=-1, vmax=1)\n",
    "plt.colorbar(label='Pearson Correlation')\n",
    "plt.title('Functional Connectivity Matrix (DK atlas)')\n",
    "plt.xlabel('ROI')\n",
    "plt.ylabel('ROI')\n",
    "plt.tight_layout()\n",
    "plt.show()\n"
   ]
  },
  {
   "cell_type": "code",
   "execution_count": 47,
   "metadata": {},
   "outputs": [
    {
     "name": "stdout",
     "output_type": "stream",
     "text": [
      "r-to-z 변환 완료: /nas/research/03-Neural_decoding/3-bids/derivatives/raw_rest/sub-01/ses-21/func/sub-01_ses-21_run-01_fc_matrix_all_r2z.npy\n"
     ]
    },
    {
     "name": "stderr",
     "output_type": "stream",
     "text": [
      "/tmp/ipykernel_2355812/2990138919.py:13: RuntimeWarning: divide by zero encountered in arctanh\n",
      "  z_mat = np.arctanh(fc_matrix)\n"
     ]
    }
   ],
   "source": [
    "import numpy as np\n",
    "import os\n",
    "\n",
    "# 파일 경로\n",
    "fc_path = \"/nas/research/03-Neural_decoding/3-bids/derivatives/raw_rest/sub-01/ses-21/func/sub-01_ses-21_run-01_fc_matrix_all.npy\"\n",
    "\n",
    "# FC matrix 로드\n",
    "fc_matrix = np.load(fc_path)\n",
    "\n",
    "# r2z 변환 함수 적용\n",
    "# 1 또는 -1에 너무 가까운 값은 안정적으로 처리하기 위해 epsilon으로 클리핑\n",
    "eps = 1e-7\n",
    "z_mat = np.arctanh(fc_matrix)\n",
    "z_mat[~np.isfinite(z_mat)] = 0\n",
    "\n",
    "# 저장 경로\n",
    "out_path = fc_path.replace(\".npy\", \"_r2z.npy\")\n",
    "np.save(out_path, z_mat)\n",
    "\n",
    "print(f\"r-to-z 변환 완료: {out_path}\")\n"
   ]
  }
 ],
 "metadata": {
  "kernelspec": {
   "display_name": "Python 3",
   "language": "python",
   "name": "python3"
  },
  "language_info": {
   "codemirror_mode": {
    "name": "ipython",
    "version": 3
   },
   "file_extension": ".py",
   "mimetype": "text/x-python",
   "name": "python",
   "nbconvert_exporter": "python",
   "pygments_lexer": "ipython3",
   "version": "3.10.6"
  }
 },
 "nbformat": 4,
 "nbformat_minor": 2
}
