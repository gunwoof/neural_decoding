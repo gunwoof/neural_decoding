{
 "cells": [
  {
   "cell_type": "code",
   "execution_count": 2,
   "metadata": {},
   "outputs": [
    {
     "name": "stdout",
     "output_type": "stream",
     "text": [
      "(81, 104, 83)\n",
      "<class 'nibabel.nifti1.Nifti1Header'> object, endian='<'\n",
      "sizeof_hdr      : 348\n",
      "data_type       : b''\n",
      "db_name         : b''\n",
      "extents         : 0\n",
      "session_error   : 0\n",
      "regular         : b'r'\n",
      "dim_info        : 0\n",
      "dim             : [  3  81 104  83   1   1   1   1]\n",
      "intent_p1       : 0.0\n",
      "intent_p2       : 0.0\n",
      "intent_p3       : 0.0\n",
      "intent_code     : none\n",
      "datatype        : int16\n",
      "bitpix          : 16\n",
      "slice_start     : 0\n",
      "pixdim          : [1.  1.8 1.8 1.8 1.  1.  1.  1. ]\n",
      "vox_offset      : 0.0\n",
      "scl_slope       : nan\n",
      "scl_inter       : nan\n",
      "slice_end       : 0\n",
      "slice_code      : unknown\n",
      "xyzt_units      : 0\n",
      "cal_max         : 0.0\n",
      "cal_min         : 0.0\n",
      "slice_duration  : 0.0\n",
      "toffset         : 0.0\n",
      "glmax           : 1\n",
      "glmin           : 0\n",
      "descrip         : b''\n",
      "aux_file        : b'none'\n",
      "qform_code      : unknown\n",
      "sform_code      : scanner\n",
      "quatern_b       : 0.0\n",
      "quatern_c       : 0.0\n",
      "quatern_d       : 0.0\n",
      "qoffset_x       : 0.0\n",
      "qoffset_y       : 0.0\n",
      "qoffset_z       : 0.0\n",
      "srow_x          : [  1.8   0.    0.  -72. ]\n",
      "srow_y          : [  0.    1.8   0.  -92.7]\n",
      "srow_z          : [  0.    0.    1.8 -73.8]\n",
      "intent_name     : b''\n",
      "magic           : b'n+1'\n"
     ]
    }
   ],
   "source": [
    "# .nii 파일 shape, metadata 확인\n",
    "\n",
    "import nibabel as nib\n",
    "import numpy as np\n",
    "\n",
    "file_path = '/nas/research/03-Neural_decoding/3-bids/derivatives/raw_prep_vol/sub-01/brainmask.nii.gz'\n",
    "img = nib.load(file_path)\n",
    "data = img.get_fdata()\n",
    "\n",
    "print(data.shape)\n",
    "\n",
    "header = img.header\n",
    "print(header)"
   ]
  },
  {
   "cell_type": "code",
   "execution_count": 3,
   "metadata": {},
   "outputs": [
    {
     "name": "stdout",
     "output_type": "stream",
     "text": [
      "배열의 shape: (25611, 15724)\n",
      "[[-0.4033  -0.6196  -0.931   ...  0.2277  -1.668   -0.5137 ]\n",
      " [ 0.666   -1.306   -0.6562  ...  0.9375  -1.32    -0.949  ]\n",
      " [-1.437   -0.5967   0.0484  ...  0.29    -1.243   -1.415  ]\n",
      " ...\n",
      " [-0.0887  -1.166   -1.354   ... -0.288   -1.013   -0.92   ]\n",
      " [-1.0625  -0.905   -0.2708  ... -1.827   -1.152   -0.05075]\n",
      " [ 0.2126   0.3867  -0.1448  ... -1.932    0.12195  0.9956 ]]\n"
     ]
    }
   ],
   "source": [
    "#.npy 파일 shape 확인\n",
    "\n",
    "import numpy as np\n",
    "\n",
    "file_path = '/nas/research/03-Neural_decoding/3-bids/derivatives/beta_huggingface/nsdgeneral.npy'\n",
    "data = np.load(file_path)\n",
    "print(f\"배열의 shape: {data.shape}\")\n",
    "print(data)\n"
   ]
  },
  {
   "cell_type": "code",
   "execution_count": null,
   "metadata": {},
   "outputs": [],
   "source": [
    "import nibabel as nib\n",
    "import numpy as np\n",
    "\n",
    "# 파일 경로\n",
    "beta_path = '/nas/research/03-Neural_decoding/3-bids/derivatives/normalize/sub-01/betas_session03.nii.gz'\n",
    "\n",
    "# 데이터 로드\n",
    "beta_img = nib.load(beta_path)\n",
    "beta_data = beta_img.get_fdata()  # shape: (x, y, z, t)\n",
    "\n",
    "# t=1 (두 번째 timepoint)의 3D 볼륨\n",
    "volume_t1 = beta_data[..., 1]  # shape: (x, y, z)\n",
    "\n",
    "# 값이 0이 아닌 (x, y, z) 좌표의 개수 세기\n",
    "non_zero_voxel_count = np.count_nonzero(volume_t1)\n",
    "\n",
    "print(f\"✅ t=1에서 intensity가 0이 아닌 복셀 수: {non_zero_voxel_count}\")\n"
   ]
  },
  {
   "cell_type": "code",
   "execution_count": 3,
   "metadata": {},
   "outputs": [],
   "source": [
    "# beta파일 bids 형식으로 만들기\n",
    "import os\n",
    "import re\n",
    "import shutil\n",
    "\n",
    "# 원본 루트 폴더\n",
    "root_dir = \"/nas/research/03-Neural_decoding/3-bids/derivatives/b4_roi\"\n",
    "# 새로운 저장 루트 (BIDS 형식으로 저장할 곳)\n",
    "output_dir = \"/nas/research/03-Neural_decoding/3-bids/derivatives/b4_roi2\"\n",
    "\n",
    "os.makedirs(output_dir, exist_ok=True)\n",
    "\n",
    "for subject_folder in os.listdir(root_dir):\n",
    "    subject_path = os.path.join(root_dir, subject_folder)\n",
    "    if os.path.isdir(subject_path) and subject_folder.startswith(\"sub-\"):\n",
    "        subject_id = subject_folder.split(\"-\")[1]\n",
    "\n",
    "        for filename in os.listdir(subject_path):\n",
    "            if filename.startswith(\"betas_session\") and filename.endswith(\".nii.gz\"):\n",
    "                session_match = re.search(r'session(\\d+)', filename)\n",
    "                if session_match:\n",
    "                    session_num = session_match.group(1).zfill(2)\n",
    "                    desc = \"betaroi\"  # 파일 이름\n",
    "                    new_filename = f\"sub-{subject_id}_ses-{session_num}_desc-{desc}.nii.gz\"\n",
    "\n",
    "                    bids_sub_dir = os.path.join(output_dir, f\"sub-{subject_id}\", f\"ses-{session_num}\", \"func\")\n",
    "                    os.makedirs(bids_sub_dir, exist_ok=True)\n",
    "\n",
    "                    src_file = os.path.join(subject_path, filename)\n",
    "                    dst_file = os.path.join(bids_sub_dir, new_filename)\n",
    "                    shutil.copy2(src_file, dst_file)"
   ]
  },
  {
   "cell_type": "code",
   "execution_count": 14,
   "metadata": {},
   "outputs": [
    {
     "name": "stdout",
     "output_type": "stream",
     "text": [
      "[Voxel-wise] 마스크 영역 평균들의 평균: 0.0000\n",
      "[Voxel-wise] 마스크 영역 표준편차들의 평균: 1.0000\n"
     ]
    }
   ],
   "source": [
    "import nibabel as nib\n",
    "import numpy as np\n",
    "\n",
    "# z-score 정규화된 fMRI 파일\n",
    "zscore_file = '/nas/research/03-Neural_decoding/3-bids/derivatives/new_b4_roi_zscore/sub-01/ses-01/func/sub-01_ses-01_desc-betaroizscore.nii.gz'\n",
    "# 마스크 파일\n",
    "mask_file = '/nas/research/03-Neural_decoding/3-bids/derivatives/b4_roi_zscore/sub-01/sub-01_nsdgeneral.nii.gz'\n",
    "\n",
    "# 데이터 로딩\n",
    "zdata = nib.load(zscore_file).get_fdata()  # shape: (X, Y, Z, T)\n",
    "mask = nib.load(mask_file).get_fdata() > 0  # shape: (X, Y, Z), boolean\n",
    "\n",
    "# 시간축 기준 voxel-wise 평균/표준편차 계산 → shape: (X, Y, Z)\n",
    "voxel_means = np.mean(zdata, axis=-1)\n",
    "voxel_stds = np.std(zdata, axis=-1)\n",
    "\n",
    "# 마스크 영역만 골라서 평균 계산\n",
    "mean_of_means = np.mean(voxel_means[mask])\n",
    "mean_of_stds = np.mean(voxel_stds[mask])\n",
    "\n",
    "print(f\"[Voxel-wise] 마스크 영역 평균들의 평균: {mean_of_means:.4f}\")\n",
    "print(f\"[Voxel-wise] 마스크 영역 표준편차들의 평균: {mean_of_stds:.4f}\")\n",
    "\n",
    "\n"
   ]
  },
  {
   "cell_type": "code",
   "execution_count": 10,
   "metadata": {},
   "outputs": [],
   "source": [
    "#h5py 파일 압축 풀기\n",
    "\n",
    "import h5py\n",
    "import os\n",
    "import numpy as np\n",
    "\n",
    "def hdf5_to_folder(hdf5_path, output_dir):\n",
    "    def recursively_save(h5_obj, current_path):\n",
    "        for key in h5_obj:\n",
    "            item = h5_obj[key]\n",
    "            item_path = os.path.join(current_path, key)\n",
    "            if isinstance(item, h5py.Dataset):\n",
    "                # npy로 저장\n",
    "                np.save(item_path + '.npy', item[()])\n",
    "            elif isinstance(item, h5py.Group):\n",
    "                os.makedirs(item_path, exist_ok=True)\n",
    "                recursively_save(item, item_path)\n",
    "\n",
    "    with h5py.File(hdf5_path, 'r') as f:\n",
    "        os.makedirs(output_dir, exist_ok=True)\n",
    "        recursively_save(f, output_dir)\n",
    "\n",
    "# 사용 예\n",
    "hdf5_to_folder(\n",
    "    hdf5_path='/nas/research/03-Neural_decoding/3-bids/test_files/subj01_nsdgeneral.hdf5',\n",
    "    output_dir='/nas/research/03-Neural_decoding/3-bids/test_files'\n",
    ")"
   ]
  },
  {
   "cell_type": "code",
   "execution_count": 49,
   "metadata": {},
   "outputs": [
    {
     "name": "stdout",
     "output_type": "stream",
     "text": [
      "[2516]\n"
     ]
    }
   ],
   "source": [
    "import numpy as np\n",
    "\n",
    "voxels = np.load('/nas/research/03-Neural_decoding/3-bids/train_subj01_0/sample000000300.coco73k.npy')\n",
    "print(voxels)\n",
    "\n",
    "\n",
    "#images = np.load('/nas/research/03-Neural_decoding/3-bids/subj01_nsdgeneral_extracted/images.npy')\n",
    "#print(images.shape)"
   ]
  },
  {
   "cell_type": "code",
   "execution_count": 2,
   "metadata": {},
   "outputs": [
    {
     "name": "stdout",
     "output_type": "stream",
     "text": [
      "Shape: (15724,)\n",
      "Min: -3.752\n",
      "Max: 3.53\n",
      "Mean: -0.2416\n",
      "Std: 0.8574\n",
      "Median: -0.254\n"
     ]
    },
    {
     "data": {
      "image/png": "[encoded data removed]",
      "text/plain": [
       "<Figure size 640x480 with 1 Axes>"
      ]
     },
     "metadata": {},
     "output_type": "display_data"
    }
   ],
   "source": [
    "import numpy as np\n",
    "\n",
    "gen_sample = np.load('/nas/research/03-Neural_decoding/3-bids/train_subj01_0/sample000000300.nsdgeneral.npy')[1]\n",
    "# gen_sample = np.load('/nas/research/03-Neural_decoding/3-bids/derivatives/b4_roi_new_zscore/sub-01/ses-21/func/sub-01_ses-21_desc-betaroizscore.npy')[329]\n",
    "\n",
    "print(\"Shape:\", gen_sample.shape)\n",
    "print(\"Min:\", np.min(gen_sample))\n",
    "print(\"Max:\", np.max(gen_sample))\n",
    "print(\"Mean:\", np.mean(gen_sample))\n",
    "print(\"Std:\", np.std(gen_sample))\n",
    "print(\"Median:\", np.median(gen_sample))\n",
    "import matplotlib.pyplot as plt\n",
    "\n",
    "plt.hist(gen_sample.flatten(), bins=100, color='steelblue', edgecolor='black')\n",
    "plt.title(\"Value Distribution of gen_sample\")\n",
    "plt.xlabel(\"Value\")\n",
    "plt.ylabel(\"Frequency\")\n",
    "plt.grid(True)\n",
    "plt.show()\n",
    "\n"
   ]
  },
  {
   "cell_type": "code",
   "execution_count": 5,
   "metadata": {},
   "outputs": [
    {
     "name": "stdout",
     "output_type": "stream",
     "text": [
      "(750, 15724)\n",
      "(750, 15724)\n",
      "(3, 15724)\n",
      "pixcorr(vec1, gen1): -0.24386000123148174\n",
      "pixcorr(vec2, gen2): -0.2520202925822968\n",
      "pixcorr(vec3, gen3): -0.2735316386893801\n"
     ]
    }
   ],
   "source": [
    "import numpy as np\n",
    "\n",
    "# pixcorr 함수 정의\n",
    "def pixcorr(a, b):\n",
    "    return np.corrcoef(a.flatten(), b.flatten())[0, 1]\n",
    "\n",
    "# --- 1. fMRI 응답 벡터 불러오기 ---\n",
    "# (a) ses-36, TR 47\n",
    "data1 = np.load('/nas/research/03-Neural_decoding/3-bids/derivatives/b4_roi_new_zscore/sub-01/ses-21/func/sub-01_ses-21_desc-betaroizscore.npy')\n",
    "print(data1.shape)\n",
    "vec1 = data1[329]  # shape: (15724,)\n",
    "\n",
    "# (b) ses-37, TR 390\n",
    "data2 = np.load('/nas/research/03-Neural_decoding/3-bids/derivatives/b4_roi_new_zscore/sub-01/ses-24/func/sub-01_ses-24_desc-betaroizscore.npy')\n",
    "print(data2.shape)\n",
    "vec2 = data2[186]\n",
    "vec3 = data2[329]\n",
    "\n",
    "# --- 2. 생성 이미지의 feature 벡터 불러오기 ---\n",
    "gen_sample = np.load('/nas/research/03-Neural_decoding/3-bids/train_subj01_0/sample000000300.nsdgeneral.npy')\n",
    "print(gen_sample.shape)\n",
    "# gen_sample shape = (3, 15724) 라면, 각 행이 하나의 샘플 벡터\n",
    "gen1, gen2, gen3 = gen_sample[0], gen_sample[1], gen_sample[2]\n",
    "\n",
    "# --- 3. pixcorr 계산 ---\n",
    "print(\"pixcorr(vec1, gen1):\", pixcorr(vec1, gen1))\n",
    "print(\"pixcorr(vec2, gen2):\", pixcorr(vec2, gen2))\n",
    "print(\"pixcorr(vec3, gen3):\", pixcorr(vec3, gen3))\n"
   ]
  },
  {
   "cell_type": "code",
   "execution_count": 6,
   "metadata": {},
   "outputs": [
    {
     "name": "stdout",
     "output_type": "stream",
     "text": [
      "변환 완료: /nas/research/03-Neural_decoding/3-bids/test_files/brainmask.nii.gz\n"
     ]
    }
   ],
   "source": [
    "import nibabel as nib\n",
    "import os\n",
    "\n",
    "# 원본 파일 경로\n",
    "mgz_file = '/nas/research/03-Neural_decoding/3-bids/test_files/brainmask.mgz'\n",
    "\n",
    "# 출력 파일 경로 (같은 디렉토리에 .nii.gz로 저장)\n",
    "nii_gz_file = os.path.splitext(mgz_file)[0] + '.nii.gz'\n",
    "\n",
    "# mgz 파일 로드\n",
    "img = nib.load(mgz_file)\n",
    "\n",
    "# nii.gz로 저장\n",
    "nib.save(img, nii_gz_file)\n",
    "\n",
    "print(f\"변환 완료: {nii_gz_file}\")\n"
   ]
  }
 ],
 "metadata": {
  "kernelspec": {
   "display_name": "Python 3",
   "language": "python",
   "name": "python3"
  },
  "language_info": {
   "codemirror_mode": {
    "name": "ipython",
    "version": 3
   },
   "file_extension": ".py",
   "mimetype": "text/x-python",
   "name": "python",
   "nbconvert_exporter": "python",
   "pygments_lexer": "ipython3",
   "version": "3.10.6"
  }
 },
 "nbformat": 4,
 "nbformat_minor": 2
}
