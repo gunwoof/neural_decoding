{
 "cells": [
  {
   "cell_type": "code",
   "execution_count": 1,
   "id": "fe37f2b8",
   "metadata": {},
   "outputs": [
    {
     "name": "stderr",
     "output_type": "stream",
     "text": [
      "Sessions: 100%|██████████| 18/18 [01:30<00:00,  5.02s/it]\n"
     ]
    }
   ],
   "source": [
    "#without low level roi\n",
    "\n",
    "import os\n",
    "import numpy as np\n",
    "import nibabel as nib\n",
    "from tqdm import tqdm\n",
    "\n",
    "# 경로 설정\n",
    "bold_base = \"/nas/research/03-Neural_decoding/3-bids/derivatives/raw_rest/sub-01\"\n",
    "dk_path = os.path.join(bold_base, \"dk_mask_MNI.nii.gz\")\n",
    "\n",
    "# 사용할 DK label 정의 (시각 처리 관련 20개 ROI)\n",
    "target_labels = np.array([\n",
    "    1007, 1008, 1009, 1011, 1015, 1016, 1029,\n",
    "    2007, 2008, 2009, 2011, 2015, 2016, 2029\n",
    "])\n",
    "\n",
    "# DK atlas 로드\n",
    "dk_img = nib.load(dk_path)\n",
    "dk_data = dk_img.get_fdata()\n",
    "\n",
    "sessions = [f\"ses-{i:02d}\" for i in range(21, 39)]\n",
    "runs = [f\"run-{i:02d}\" for i in range(1, 3)]\n",
    "\n",
    "for ses in tqdm(sessions, desc=\"Sessions\"):\n",
    "    for run in runs:\n",
    "        func_dir = os.path.join(bold_base, ses, \"func\")\n",
    "        bold_file = os.path.join(func_dir, f\"sub-01_{ses}_task-rest_{run}_space-MNI152NLin2009cAsym_desc-be_bold.nii.gz\")\n",
    "\n",
    "        if not os.path.exists(bold_file):\n",
    "            print(f\"File missing: {bold_file}\")\n",
    "            continue\n",
    "\n",
    "        # fMRI 로드\n",
    "        bold_img = nib.load(bold_file)\n",
    "        bold_data = bold_img.get_fdata()  # shape: (X, Y, Z, T)\n",
    "        T = bold_data.shape[-1]\n",
    "\n",
    "        # 각 ROI별 평균 시계열 계산\n",
    "        roi_ts_list = []\n",
    "        for label in target_labels:\n",
    "            mask = (dk_data == label)\n",
    "            roi_voxels = bold_data[mask]  # shape: (n_voxels, T)\n",
    "\n",
    "            if roi_voxels.size == 0:\n",
    "                print(f\"Warning: label {label} has no voxels in {bold_file}\")\n",
    "                roi_mean = np.zeros(T)\n",
    "            else:\n",
    "                roi_mean = np.mean(roi_voxels, axis=0)  # shape: (T,)\n",
    "\n",
    "            roi_ts_list.append(roi_mean)\n",
    "\n",
    "        roi_ts = np.stack(roi_ts_list, axis=1)  # shape: (T, 20)\n",
    "\n",
    "        # Z-score normalization (time series 기준)\n",
    "        roi_z = (roi_ts - np.mean(roi_ts, axis=0)) / np.std(roi_ts, axis=0)\n",
    "\n",
    "        # FC matrix 계산\n",
    "        fc_matrix = np.corrcoef(roi_z.T)  # shape: (20, 20)\n",
    "\n",
    "        # 저장\n",
    "        out_prefix = f\"sub-01_{ses}_{run}\"\n",
    "        np.save(os.path.join(func_dir, f\"{out_prefix}_roi_timeseries_wo_low.npy\"), roi_ts)\n",
    "        np.save(os.path.join(func_dir, f\"{out_prefix}_fc_matrix_wo_low.npy\"), fc_matrix)\n",
    "\n"
   ]
  },
  {
   "cell_type": "code",
   "execution_count": null,
   "id": "fac1fc5d",
   "metadata": {},
   "outputs": [],
   "source": []
  },
  {
   "cell_type": "code",
   "execution_count": 4,
   "id": "d36d50f5",
   "metadata": {},
   "outputs": [
    {
     "name": "stdout",
     "output_type": "stream",
     "text": [
      "Saved average FC matrix to: /nas/research/03-Neural_decoding/3-bids/derivatives/raw_rest/sub-01/fc_matrix_wo_low_mean.npy\n"
     ]
    }
   ],
   "source": [
    "import os\n",
    "import numpy as np\n",
    "\n",
    "# 세션 및 런 리스트 정의\n",
    "sessions = [f\"ses-{i:02d}\" for i in range(21, 39)]\n",
    "runs = [f\"run-{i:02d}\" for i in range(1, 3)]\n",
    "\n",
    "# 경로 베이스\n",
    "base_dir = \"/nas/research/03-Neural_decoding/3-bids/derivatives/raw_rest/sub-01\"\n",
    "\n",
    "fc_matrices = []\n",
    "\n",
    "for ses in sessions:\n",
    "    for run in runs:\n",
    "        fc_path = os.path.join(base_dir, ses, \"func\", f\"sub-01_{ses}_{run}_fc_matrix_wo_low.npy\")\n",
    "        if os.path.exists(fc_path):\n",
    "            fc = np.load(fc_path)\n",
    "            if fc.shape == (14, 14):\n",
    "                fc_matrices.append(fc)\n",
    "            else:\n",
    "                print(f\"Skipping {fc_path} due to unexpected shape: {fc.shape}\")\n",
    "        else:\n",
    "            print(f\"Missing: {fc_path}\")\n",
    "\n",
    "# 평균 계산\n",
    "if fc_matrices:\n",
    "    fc_mean = np.mean(fc_matrices, axis=0)\n",
    "    out_path = os.path.join(base_dir, \"fc_matrix_wo_low_mean.npy\")\n",
    "    np.save(out_path, fc_mean)\n",
    "    print(f\"Saved average FC matrix to: {out_path}\")\n",
    "else:\n",
    "    print(\"No valid FC matrices found.\")\n",
    "\n"
   ]
  },
  {
   "cell_type": "code",
   "execution_count": 2,
   "id": "103dd04c",
   "metadata": {},
   "outputs": [
    {
     "name": "stderr",
     "output_type": "stream",
     "text": [
      "Sessions: 100%|██████████| 18/18 [01:30<00:00,  5.00s/it]\n"
     ]
    }
   ],
   "source": [
    "#without high level roi\n",
    "\n",
    "import os\n",
    "import numpy as np\n",
    "import nibabel as nib\n",
    "from tqdm import tqdm\n",
    "\n",
    "# 경로 설정\n",
    "bold_base = \"/nas/research/03-Neural_decoding/3-bids/derivatives/raw_rest/sub-01\"\n",
    "dk_path = os.path.join(bold_base, \"dk_mask_MNI.nii.gz\")\n",
    "\n",
    "# 사용할 DK label 정의 (시각 처리 관련 20개 ROI)\n",
    "target_labels = np.array([\n",
    "    1005, 1008, 1009, 1013, 1015, 1016, 1021, 1029,\n",
    "    2005, 2008, 2009, 2013, 2015, 2016, 2021, 2029\n",
    "])\n",
    "\n",
    "# DK atlas 로드\n",
    "dk_img = nib.load(dk_path)\n",
    "dk_data = dk_img.get_fdata()\n",
    "\n",
    "sessions = [f\"ses-{i:02d}\" for i in range(21, 39)]\n",
    "runs = [f\"run-{i:02d}\" for i in range(1, 3)]\n",
    "\n",
    "for ses in tqdm(sessions, desc=\"Sessions\"):\n",
    "    for run in runs:\n",
    "        func_dir = os.path.join(bold_base, ses, \"func\")\n",
    "        bold_file = os.path.join(func_dir, f\"sub-01_{ses}_task-rest_{run}_space-MNI152NLin2009cAsym_desc-be_bold.nii.gz\")\n",
    "\n",
    "        if not os.path.exists(bold_file):\n",
    "            print(f\"File missing: {bold_file}\")\n",
    "            continue\n",
    "\n",
    "        # fMRI 로드\n",
    "        bold_img = nib.load(bold_file)\n",
    "        bold_data = bold_img.get_fdata()  # shape: (X, Y, Z, T)\n",
    "        T = bold_data.shape[-1]\n",
    "\n",
    "        # 각 ROI별 평균 시계열 계산\n",
    "        roi_ts_list = []\n",
    "        for label in target_labels:\n",
    "            mask = (dk_data == label)\n",
    "            roi_voxels = bold_data[mask]  # shape: (n_voxels, T)\n",
    "\n",
    "            if roi_voxels.size == 0:\n",
    "                print(f\"Warning: label {label} has no voxels in {bold_file}\")\n",
    "                roi_mean = np.zeros(T)\n",
    "            else:\n",
    "                roi_mean = np.mean(roi_voxels, axis=0)  # shape: (T,)\n",
    "\n",
    "            roi_ts_list.append(roi_mean)\n",
    "\n",
    "        roi_ts = np.stack(roi_ts_list, axis=1)  # shape: (T, 20)\n",
    "\n",
    "        # Z-score normalization (time series 기준)\n",
    "        roi_z = (roi_ts - np.mean(roi_ts, axis=0)) / np.std(roi_ts, axis=0)\n",
    "\n",
    "        # FC matrix 계산\n",
    "        fc_matrix = np.corrcoef(roi_z.T)  # shape: (20, 20)\n",
    "\n",
    "        # 저장\n",
    "        out_prefix = f\"sub-01_{ses}_{run}\"\n",
    "        np.save(os.path.join(func_dir, f\"{out_prefix}_roi_timeseries_wo_high.npy\"), roi_ts)\n",
    "        np.save(os.path.join(func_dir, f\"{out_prefix}_fc_matrix_wo_high.npy\"), fc_matrix)\n",
    "\n"
   ]
  },
  {
   "cell_type": "code",
   "execution_count": 5,
   "id": "aff7f3e1",
   "metadata": {},
   "outputs": [
    {
     "name": "stdout",
     "output_type": "stream",
     "text": [
      "Saved average FC matrix to: /nas/research/03-Neural_decoding/3-bids/derivatives/raw_rest/sub-01/fc_matrix_wo_high_mean.npy\n"
     ]
    }
   ],
   "source": [
    "import os\n",
    "import numpy as np\n",
    "\n",
    "# 세션 및 런 리스트 정의\n",
    "sessions = [f\"ses-{i:02d}\" for i in range(21, 39)]\n",
    "runs = [f\"run-{i:02d}\" for i in range(1, 3)]\n",
    "\n",
    "# 경로 베이스\n",
    "base_dir = \"/nas/research/03-Neural_decoding/3-bids/derivatives/raw_rest/sub-01\"\n",
    "\n",
    "fc_matrices = []\n",
    "\n",
    "for ses in sessions:\n",
    "    for run in runs:\n",
    "        fc_path = os.path.join(base_dir, ses, \"func\", f\"sub-01_{ses}_{run}_fc_matrix_wo_high.npy\")\n",
    "        if os.path.exists(fc_path):\n",
    "            fc = np.load(fc_path)\n",
    "            if fc.shape == (16, 16):\n",
    "                fc_matrices.append(fc)\n",
    "            else:\n",
    "                print(f\"Skipping {fc_path} due to unexpected shape: {fc.shape}\")\n",
    "        else:\n",
    "            print(f\"Missing: {fc_path}\")\n",
    "\n",
    "# 평균 계산\n",
    "if fc_matrices:\n",
    "    fc_mean = np.mean(fc_matrices, axis=0)\n",
    "    out_path = os.path.join(base_dir, \"fc_matrix_wo_high_mean.npy\")\n",
    "    np.save(out_path, fc_mean)\n",
    "    print(f\"Saved average FC matrix to: {out_path}\")\n",
    "else:\n",
    "    print(\"No valid FC matrices found.\")\n",
    "\n"
   ]
  },
  {
   "cell_type": "code",
   "execution_count": 7,
   "id": "d913eb4c",
   "metadata": {},
   "outputs": [
    {
     "data": {
      "image/png": "[encoded data removed]",
      "text/plain": [
       "<Figure size 800x600 with 2 Axes>"
      ]
     },
     "metadata": {},
     "output_type": "display_data"
    }
   ],
   "source": [
    "import numpy as np\n",
    "import matplotlib.pyplot as plt\n",
    "\n",
    "# 저장된 FC 행렬 경로 (예시: ses-21, run-01)\n",
    "fc_path = \"/nas/research/03-Neural_decoding/3-bids/derivatives/raw_rest/sub-01/fc_matrix_wo_low_mean.npy\"\n",
    "\n",
    "# FC 행렬 로드\n",
    "fc_matrix = np.load(fc_path)\n",
    "\n",
    "# 시각화\n",
    "plt.figure(figsize=(8, 6))\n",
    "plt.imshow(fc_matrix, cmap='coolwarm', vmin=-1, vmax=1)\n",
    "plt.colorbar(label='Pearson Correlation')\n",
    "plt.title('Functional Connectivity Matrix (DK atlas)')\n",
    "plt.xlabel('ROI')\n",
    "plt.ylabel('ROI')\n",
    "plt.tight_layout()\n",
    "plt.show()"
   ]
  }
 ],
 "metadata": {
  "kernelspec": {
   "display_name": "Python 3",
   "language": "python",
   "name": "python3"
  },
  "language_info": {
   "codemirror_mode": {
    "name": "ipython",
    "version": 3
   },
   "file_extension": ".py",
   "mimetype": "text/x-python",
   "name": "python",
   "nbconvert_exporter": "python",
   "pygments_lexer": "ipython3",
   "version": "3.10.6"
  }
 },
 "nbformat": 4,
 "nbformat_minor": 5
}
